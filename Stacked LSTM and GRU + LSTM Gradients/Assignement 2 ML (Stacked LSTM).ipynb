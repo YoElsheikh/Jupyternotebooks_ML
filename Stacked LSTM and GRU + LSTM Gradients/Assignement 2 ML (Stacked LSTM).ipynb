{
 "cells": [
  {
   "cell_type": "markdown",
   "id": "3b141eff",
   "metadata": {},
   "source": [
    "## Predicting Passengers' Data Using Stacked LSTM with One Hidden Layer"
   ]
  },
  {
   "cell_type": "code",
   "execution_count": 1,
   "id": "50926eb8",
   "metadata": {},
   "outputs": [
    {
     "data": {
      "text/plain": [
       "'\\nDataset is from: https://www.kaggle.com/rakannimer/air-passengers\\nInternational Airline Passengers data is to be predicted.\\nGiven a year and a month, the task is to predict the number of international airline passengers per 1,000. \\nThe data is from January 1949 to December 1960 (12 years, with 144 observations).\\n'"
      ]
     },
     "execution_count": 1,
     "metadata": {},
     "output_type": "execute_result"
    }
   ],
   "source": [
    "\"\"\"\n",
    "Dataset is from: https://raw.githubusercontent.com/jbrownlee/Datasets/master/airline-passengers.csv\n",
    "International Airline Passengers data is to be predicted.\n",
    "Given a year and a month, the task is to predict the number of international airline passengers per 1,000. \n",
    "The data is from January 1949 to December 1960 (12 years, with 144 observations).\n",
    "\"\"\""
   ]
  },
  {
   "cell_type": "code",
   "execution_count": 1,
   "id": "7d5abb10",
   "metadata": {},
   "outputs": [],
   "source": [
    "import numpy\n",
    "numpy.version.version\n",
    "\n",
    "#importing the necessary libraries\n",
    "import numpy as np\n",
    "import matplotlib.pyplot as plt\n",
    "import pandas as pd\n",
    "from pandas import read_csv\n",
    "import math\n",
    "\n",
    "from keras.models import Sequential\n",
    "from keras.layers import Dense\n",
    "from keras.layers import LSTM\n",
    "from sklearn.preprocessing import MinMaxScaler\n",
    "from sklearn.metrics import mean_squared_error"
   ]
  },
  {
   "cell_type": "code",
   "execution_count": 8,
   "id": "12d8b490",
   "metadata": {},
   "outputs": [
    {
     "data": {
      "text/plain": [
       "'1.19.2'"
      ]
     },
     "execution_count": 8,
     "metadata": {},
     "output_type": "execute_result"
    }
   ],
   "source": [
    "#The code only ran when i downgraded to numpy 1.19.2, using 1.20.2 gave a datatype error when passing through the LSTM\n",
    "numpy.version.version"
   ]
  },
  {
   "cell_type": "code",
   "execution_count": 2,
   "id": "2f51cb3b",
   "metadata": {},
   "outputs": [
    {
     "data": {
      "image/png": "[encoded data removed]",
      "text/plain": [
       "<Figure size 432x288 with 1 Axes>"
      ]
     },
     "metadata": {
      "needs_background": "light"
     },
     "output_type": "display_data"
    }
   ],
   "source": [
    "#pd.read_csv('c:\\Users\\asus\\Desktop\\airline-passengers.csv')\n",
    "\n",
    "#load the dataset + using only column number 1\n",
    "dataframe = read_csv(r\"c:\\Users\\asus\\Desktop\\airline-passengers.csv\", usecols=[1])\n",
    "plt.plot(dataframe)\n",
    "\n",
    "#Convert pandas dataframe to numpy array\n",
    "dataset = dataframe.values\n",
    "dataset = dataset.astype('float32') #Convert values to float"
   ]
  },
  {
   "cell_type": "code",
   "execution_count": 3,
   "id": "c1ef4ce4",
   "metadata": {},
   "outputs": [
    {
     "name": "stdout",
     "output_type": "stream",
     "text": [
      "44\n",
      "100\n"
     ]
    }
   ],
   "source": [
    "#Normalizing the dataset since the activation functions sigmoid and tanh are sensitive to magnitude\n",
    "scaler = MinMaxScaler(feature_range=(0, 1)) #Also try QuantileTransformer\n",
    "dataset = scaler.fit_transform(dataset)\n",
    "\n",
    "#Splitting the data into trainig and testing sets\n",
    "train_size = int(len(dataset) * 0.70)\n",
    "test_size = len(dataset) - train_size\n",
    "train, test = dataset[0:train_size,:], dataset[train_size:len(dataset),:]\n",
    "\n",
    "print(test_size)\n",
    "print(train_size)"
   ]
  },
  {
   "cell_type": "code",
   "execution_count": 9,
   "id": "9c80a420",
   "metadata": {},
   "outputs": [
    {
     "name": "stdout",
     "output_type": "stream",
     "text": [
      "Shape of training set: (92, 7)\n",
      "Shape of test set: (36, 7)\n",
      "7\n"
     ]
    }
   ],
   "source": [
    "#Since we are dealing with a single sequence of data, we need to rearrange our X and Y vectors\n",
    "#this creates a dataset where X is the number of passengers at a given time (t, t-1, t-2...) \n",
    "#and Y is the number of passengers at the next time (t + 1).\n",
    "\n",
    "def to_sequences(dataset, seq_size=1):\n",
    "    x = []\n",
    "    y = []\n",
    "\n",
    "    for i in range(len(dataset)-seq_size-1):\n",
    "        #print(i)\n",
    "        window = dataset[i:(i+seq_size), 0]\n",
    "        x.append(window)\n",
    "        y.append(dataset[i+seq_size, 0])\n",
    "        \n",
    "    return np.array(x),np.array(y)\n",
    "\n",
    "seq_size = 7  # Number of time steps to look back \n",
    "#Larger sequences (look further back) may improve forecasting.\n",
    "\n",
    "\n",
    "\n",
    "trainX, trainY = to_sequences(train, seq_size)\n",
    "testX, testY = to_sequences(test, seq_size)\n",
    "\n",
    "\n",
    "\n",
    "print(\"Shape of training set: {}\".format(trainX.shape))\n",
    "print(\"Shape of test set: {}\".format(testX.shape))\n",
    "\n",
    "\n",
    "print(trainX.shape[1])\n",
    "#print(trainX)"
   ]
  },
  {
   "cell_type": "code",
   "execution_count": 10,
   "id": "c8982730",
   "metadata": {},
   "outputs": [],
   "source": [
    "\n",
    "\n",
    "trainX = np.reshape(trainX, (trainX.shape[0], 1, trainX.shape[1]))\n",
    "testX = np.reshape(testX, (testX.shape[0], 1, testX.shape[1]))\n"
   ]
  },
  {
   "cell_type": "code",
   "execution_count": 21,
   "id": "fe954d59",
   "metadata": {},
   "outputs": [
    {
     "name": "stdout",
     "output_type": "stream",
     "text": [
      "Model: \"sequential_6\"\n",
      "_________________________________________________________________\n",
      "Layer (type)                 Output Shape              Param #   \n",
      "=================================================================\n",
      "lstm_12 (LSTM)               (None, None, 50)          11600     \n",
      "_________________________________________________________________\n",
      "lstm_13 (LSTM)               (None, 50)                20200     \n",
      "_________________________________________________________________\n",
      "dense_11 (Dense)             (None, 32)                1632      \n",
      "_________________________________________________________________\n",
      "dense_12 (Dense)             (None, 1)                 33        \n",
      "=================================================================\n",
      "Total params: 33,465\n",
      "Trainable params: 33,465\n",
      "Non-trainable params: 0\n",
      "_________________________________________________________________\n",
      "Train...\n"
     ]
    }
   ],
   "source": [
    "\n",
    "\n",
    "#Reshape input to be [samples, time steps, features]\n",
    "#Stacked LSTM with 1 hidden dense layer\n",
    "#trainX = np.reshape(trainX, (trainX.shape[0], 1, trainX.shape[1]))\n",
    "#testX = np.reshape(testX, (testX.shape[0], 1, testX.shape[1]))\n",
    "model = Sequential()\n",
    "model.add(LSTM(50, activation='relu', return_sequences=True, input_shape=(None, seq_size)))\n",
    "model.add(LSTM(50, activation='relu'))\n",
    "model.add(Dense(32))\n",
    "model.add(Dense(1))\n",
    "model.compile(optimizer='adam',\n",
    "              loss='mean_squared_error',\n",
    "              metrics=['accuracy'])\n",
    "\n",
    "model.summary()\n",
    "print('Train...')\n",
    "\n",
    "\n"
   ]
  },
  {
   "cell_type": "code",
   "execution_count": 28,
   "id": "40f781ef",
   "metadata": {},
   "outputs": [
    {
     "name": "stdout",
     "output_type": "stream",
     "text": [
      "Epoch 1/100\n",
      "3/3 - 0s - loss: 0.0011 - accuracy: 0.0109 - val_loss: 0.0147 - val_accuracy: 0.0278\n",
      "Epoch 2/100\n",
      "3/3 - 0s - loss: 0.0011 - accuracy: 0.0109 - val_loss: 0.0147 - val_accuracy: 0.0278\n",
      "Epoch 3/100\n",
      "3/3 - 0s - loss: 0.0011 - accuracy: 0.0109 - val_loss: 0.0185 - val_accuracy: 0.0278\n",
      "Epoch 4/100\n",
      "3/3 - 0s - loss: 0.0011 - accuracy: 0.0109 - val_loss: 0.0169 - val_accuracy: 0.0278\n",
      "Epoch 5/100\n",
      "3/3 - 0s - loss: 0.0011 - accuracy: 0.0109 - val_loss: 0.0148 - val_accuracy: 0.0278\n",
      "Epoch 6/100\n",
      "3/3 - 0s - loss: 0.0011 - accuracy: 0.0109 - val_loss: 0.0175 - val_accuracy: 0.0278\n",
      "Epoch 7/100\n",
      "3/3 - 0s - loss: 0.0011 - accuracy: 0.0109 - val_loss: 0.0170 - val_accuracy: 0.0278\n",
      "Epoch 8/100\n",
      "3/3 - 0s - loss: 0.0011 - accuracy: 0.0109 - val_loss: 0.0146 - val_accuracy: 0.0278\n",
      "Epoch 9/100\n",
      "3/3 - 0s - loss: 0.0011 - accuracy: 0.0109 - val_loss: 0.0168 - val_accuracy: 0.0278\n",
      "Epoch 10/100\n",
      "3/3 - 0s - loss: 0.0011 - accuracy: 0.0109 - val_loss: 0.0143 - val_accuracy: 0.0278\n",
      "Epoch 11/100\n",
      "3/3 - 0s - loss: 0.0012 - accuracy: 0.0109 - val_loss: 0.0157 - val_accuracy: 0.0278\n",
      "Epoch 12/100\n",
      "3/3 - 0s - loss: 0.0012 - accuracy: 0.0109 - val_loss: 0.0187 - val_accuracy: 0.0278\n",
      "Epoch 13/100\n",
      "3/3 - 0s - loss: 0.0011 - accuracy: 0.0109 - val_loss: 0.0141 - val_accuracy: 0.0278\n",
      "Epoch 14/100\n",
      "3/3 - 0s - loss: 0.0011 - accuracy: 0.0109 - val_loss: 0.0184 - val_accuracy: 0.0278\n",
      "Epoch 15/100\n",
      "3/3 - 0s - loss: 0.0012 - accuracy: 0.0109 - val_loss: 0.0175 - val_accuracy: 0.0278\n",
      "Epoch 16/100\n",
      "3/3 - 0s - loss: 0.0011 - accuracy: 0.0109 - val_loss: 0.0125 - val_accuracy: 0.0278\n",
      "Epoch 17/100\n",
      "3/3 - 0s - loss: 0.0011 - accuracy: 0.0109 - val_loss: 0.0176 - val_accuracy: 0.0278\n",
      "Epoch 18/100\n",
      "3/3 - 0s - loss: 0.0012 - accuracy: 0.0109 - val_loss: 0.0157 - val_accuracy: 0.0278\n",
      "Epoch 19/100\n",
      "3/3 - 0s - loss: 0.0012 - accuracy: 0.0109 - val_loss: 0.0137 - val_accuracy: 0.0278\n",
      "Epoch 20/100\n",
      "3/3 - 0s - loss: 0.0011 - accuracy: 0.0109 - val_loss: 0.0190 - val_accuracy: 0.0278\n",
      "Epoch 21/100\n",
      "3/3 - 0s - loss: 0.0011 - accuracy: 0.0109 - val_loss: 0.0156 - val_accuracy: 0.0278\n",
      "Epoch 22/100\n",
      "3/3 - 0s - loss: 0.0011 - accuracy: 0.0109 - val_loss: 0.0146 - val_accuracy: 0.0278\n",
      "Epoch 23/100\n",
      "3/3 - 0s - loss: 0.0011 - accuracy: 0.0109 - val_loss: 0.0190 - val_accuracy: 0.0278\n",
      "Epoch 24/100\n",
      "3/3 - 0s - loss: 0.0012 - accuracy: 0.0109 - val_loss: 0.0159 - val_accuracy: 0.0278\n",
      "Epoch 25/100\n",
      "3/3 - 0s - loss: 0.0011 - accuracy: 0.0109 - val_loss: 0.0162 - val_accuracy: 0.0278\n",
      "Epoch 26/100\n",
      "3/3 - 0s - loss: 0.0011 - accuracy: 0.0109 - val_loss: 0.0160 - val_accuracy: 0.0278\n",
      "Epoch 27/100\n",
      "3/3 - 0s - loss: 0.0011 - accuracy: 0.0109 - val_loss: 0.0147 - val_accuracy: 0.0278\n",
      "Epoch 28/100\n",
      "3/3 - 0s - loss: 0.0011 - accuracy: 0.0109 - val_loss: 0.0174 - val_accuracy: 0.0278\n",
      "Epoch 29/100\n",
      "3/3 - 0s - loss: 0.0012 - accuracy: 0.0109 - val_loss: 0.0169 - val_accuracy: 0.0278\n",
      "Epoch 30/100\n",
      "3/3 - 0s - loss: 0.0011 - accuracy: 0.0109 - val_loss: 0.0134 - val_accuracy: 0.0278\n",
      "Epoch 31/100\n",
      "3/3 - 0s - loss: 0.0011 - accuracy: 0.0109 - val_loss: 0.0187 - val_accuracy: 0.0278\n",
      "Epoch 32/100\n",
      "3/3 - 0s - loss: 0.0011 - accuracy: 0.0109 - val_loss: 0.0155 - val_accuracy: 0.0278\n",
      "Epoch 33/100\n",
      "3/3 - 0s - loss: 0.0011 - accuracy: 0.0109 - val_loss: 0.0182 - val_accuracy: 0.0278\n",
      "Epoch 34/100\n",
      "3/3 - 0s - loss: 0.0011 - accuracy: 0.0109 - val_loss: 0.0156 - val_accuracy: 0.0278\n",
      "Epoch 35/100\n",
      "3/3 - 0s - loss: 0.0011 - accuracy: 0.0109 - val_loss: 0.0150 - val_accuracy: 0.0278\n",
      "Epoch 36/100\n",
      "3/3 - 0s - loss: 0.0011 - accuracy: 0.0109 - val_loss: 0.0179 - val_accuracy: 0.0278\n",
      "Epoch 37/100\n",
      "3/3 - 0s - loss: 0.0011 - accuracy: 0.0109 - val_loss: 0.0162 - val_accuracy: 0.0278\n",
      "Epoch 38/100\n",
      "3/3 - 0s - loss: 0.0011 - accuracy: 0.0109 - val_loss: 0.0159 - val_accuracy: 0.0278\n",
      "Epoch 39/100\n",
      "3/3 - 0s - loss: 0.0011 - accuracy: 0.0109 - val_loss: 0.0166 - val_accuracy: 0.0278\n",
      "Epoch 40/100\n",
      "3/3 - 0s - loss: 0.0011 - accuracy: 0.0109 - val_loss: 0.0159 - val_accuracy: 0.0278\n",
      "Epoch 41/100\n",
      "3/3 - 0s - loss: 0.0011 - accuracy: 0.0109 - val_loss: 0.0169 - val_accuracy: 0.0278\n",
      "Epoch 42/100\n",
      "3/3 - 0s - loss: 0.0011 - accuracy: 0.0109 - val_loss: 0.0172 - val_accuracy: 0.0278\n",
      "Epoch 43/100\n",
      "3/3 - 0s - loss: 0.0011 - accuracy: 0.0109 - val_loss: 0.0158 - val_accuracy: 0.0278\n",
      "Epoch 44/100\n",
      "3/3 - 0s - loss: 0.0011 - accuracy: 0.0109 - val_loss: 0.0186 - val_accuracy: 0.0278\n",
      "Epoch 45/100\n",
      "3/3 - 0s - loss: 0.0011 - accuracy: 0.0109 - val_loss: 0.0160 - val_accuracy: 0.0278\n",
      "Epoch 46/100\n",
      "3/3 - 0s - loss: 0.0011 - accuracy: 0.0109 - val_loss: 0.0192 - val_accuracy: 0.0278\n",
      "Epoch 47/100\n",
      "3/3 - 0s - loss: 0.0011 - accuracy: 0.0109 - val_loss: 0.0150 - val_accuracy: 0.0278\n",
      "Epoch 48/100\n",
      "3/3 - 0s - loss: 0.0011 - accuracy: 0.0109 - val_loss: 0.0198 - val_accuracy: 0.0278\n",
      "Epoch 49/100\n",
      "3/3 - 0s - loss: 0.0011 - accuracy: 0.0109 - val_loss: 0.0166 - val_accuracy: 0.0278\n",
      "Epoch 50/100\n",
      "3/3 - 0s - loss: 0.0010 - accuracy: 0.0109 - val_loss: 0.0154 - val_accuracy: 0.0278\n",
      "Epoch 51/100\n",
      "3/3 - 0s - loss: 0.0011 - accuracy: 0.0109 - val_loss: 0.0174 - val_accuracy: 0.0278\n",
      "Epoch 52/100\n",
      "3/3 - 0s - loss: 0.0010 - accuracy: 0.0109 - val_loss: 0.0168 - val_accuracy: 0.0278\n",
      "Epoch 53/100\n",
      "3/3 - 0s - loss: 0.0010 - accuracy: 0.0109 - val_loss: 0.0171 - val_accuracy: 0.0278\n",
      "Epoch 54/100\n",
      "3/3 - 0s - loss: 0.0011 - accuracy: 0.0109 - val_loss: 0.0165 - val_accuracy: 0.0278\n",
      "Epoch 55/100\n",
      "3/3 - 0s - loss: 0.0010 - accuracy: 0.0109 - val_loss: 0.0155 - val_accuracy: 0.0278\n",
      "Epoch 56/100\n",
      "3/3 - 0s - loss: 0.0011 - accuracy: 0.0109 - val_loss: 0.0192 - val_accuracy: 0.0278\n",
      "Epoch 57/100\n",
      "3/3 - 0s - loss: 0.0012 - accuracy: 0.0109 - val_loss: 0.0151 - val_accuracy: 0.0278\n",
      "Epoch 58/100\n",
      "3/3 - 0s - loss: 0.0011 - accuracy: 0.0109 - val_loss: 0.0216 - val_accuracy: 0.0278\n",
      "Epoch 59/100\n",
      "3/3 - 0s - loss: 0.0011 - accuracy: 0.0109 - val_loss: 0.0153 - val_accuracy: 0.0278\n",
      "Epoch 60/100\n",
      "3/3 - 0s - loss: 0.0011 - accuracy: 0.0109 - val_loss: 0.0162 - val_accuracy: 0.0278\n",
      "Epoch 61/100\n",
      "3/3 - 0s - loss: 0.0011 - accuracy: 0.0109 - val_loss: 0.0191 - val_accuracy: 0.0278\n",
      "Epoch 62/100\n",
      "3/3 - 0s - loss: 0.0011 - accuracy: 0.0109 - val_loss: 0.0149 - val_accuracy: 0.0278\n",
      "Epoch 63/100\n",
      "3/3 - 0s - loss: 0.0011 - accuracy: 0.0109 - val_loss: 0.0162 - val_accuracy: 0.0278\n",
      "Epoch 64/100\n",
      "3/3 - 0s - loss: 0.0011 - accuracy: 0.0109 - val_loss: 0.0183 - val_accuracy: 0.0278\n",
      "Epoch 65/100\n",
      "3/3 - 0s - loss: 0.0011 - accuracy: 0.0109 - val_loss: 0.0157 - val_accuracy: 0.0278\n",
      "Epoch 66/100\n",
      "3/3 - 0s - loss: 0.0010 - accuracy: 0.0109 - val_loss: 0.0193 - val_accuracy: 0.0278\n",
      "Epoch 67/100\n",
      "3/3 - 0s - loss: 0.0011 - accuracy: 0.0109 - val_loss: 0.0163 - val_accuracy: 0.0278\n",
      "Epoch 68/100\n",
      "3/3 - 0s - loss: 0.0010 - accuracy: 0.0109 - val_loss: 0.0180 - val_accuracy: 0.0278\n",
      "Epoch 69/100\n",
      "3/3 - 0s - loss: 0.0011 - accuracy: 0.0109 - val_loss: 0.0172 - val_accuracy: 0.0278\n",
      "Epoch 70/100\n",
      "3/3 - 0s - loss: 0.0010 - accuracy: 0.0109 - val_loss: 0.0199 - val_accuracy: 0.0278\n",
      "Epoch 71/100\n",
      "3/3 - 0s - loss: 0.0010 - accuracy: 0.0109 - val_loss: 0.0154 - val_accuracy: 0.0278\n",
      "Epoch 72/100\n",
      "3/3 - 0s - loss: 0.0011 - accuracy: 0.0109 - val_loss: 0.0168 - val_accuracy: 0.0278\n",
      "Epoch 73/100\n",
      "3/3 - 0s - loss: 0.0010 - accuracy: 0.0109 - val_loss: 0.0173 - val_accuracy: 0.0278\n",
      "Epoch 74/100\n",
      "3/3 - 0s - loss: 0.0010 - accuracy: 0.0109 - val_loss: 0.0143 - val_accuracy: 0.0278\n",
      "Epoch 75/100\n",
      "3/3 - 0s - loss: 0.0011 - accuracy: 0.0109 - val_loss: 0.0175 - val_accuracy: 0.0278\n",
      "Epoch 76/100\n",
      "3/3 - 0s - loss: 0.0011 - accuracy: 0.0109 - val_loss: 0.0151 - val_accuracy: 0.0278\n",
      "Epoch 77/100\n",
      "3/3 - 0s - loss: 0.0010 - accuracy: 0.0109 - val_loss: 0.0190 - val_accuracy: 0.0278\n",
      "Epoch 78/100\n",
      "3/3 - 0s - loss: 0.0011 - accuracy: 0.0109 - val_loss: 0.0161 - val_accuracy: 0.0278\n",
      "Epoch 79/100\n",
      "3/3 - 0s - loss: 0.0010 - accuracy: 0.0109 - val_loss: 0.0142 - val_accuracy: 0.0278\n",
      "Epoch 80/100\n",
      "3/3 - 0s - loss: 0.0010 - accuracy: 0.0109 - val_loss: 0.0189 - val_accuracy: 0.0278\n",
      "Epoch 81/100\n",
      "3/3 - 0s - loss: 0.0010 - accuracy: 0.0109 - val_loss: 0.0169 - val_accuracy: 0.0278\n",
      "Epoch 82/100\n",
      "3/3 - 0s - loss: 0.0010 - accuracy: 0.0109 - val_loss: 0.0159 - val_accuracy: 0.0278\n",
      "Epoch 83/100\n",
      "3/3 - 0s - loss: 0.0010 - accuracy: 0.0109 - val_loss: 0.0179 - val_accuracy: 0.0278\n",
      "Epoch 84/100\n",
      "3/3 - 0s - loss: 0.0010 - accuracy: 0.0109 - val_loss: 0.0161 - val_accuracy: 0.0278\n"
     ]
    },
    {
     "name": "stdout",
     "output_type": "stream",
     "text": [
      "Epoch 85/100\n",
      "3/3 - 0s - loss: 0.0010 - accuracy: 0.0109 - val_loss: 0.0177 - val_accuracy: 0.0278\n",
      "Epoch 86/100\n",
      "3/3 - 0s - loss: 0.0011 - accuracy: 0.0109 - val_loss: 0.0164 - val_accuracy: 0.0278\n",
      "Epoch 87/100\n",
      "3/3 - 0s - loss: 0.0011 - accuracy: 0.0109 - val_loss: 0.0142 - val_accuracy: 0.0278\n",
      "Epoch 88/100\n",
      "3/3 - 0s - loss: 0.0011 - accuracy: 0.0109 - val_loss: 0.0197 - val_accuracy: 0.0278\n",
      "Epoch 89/100\n",
      "3/3 - 0s - loss: 0.0010 - accuracy: 0.0109 - val_loss: 0.0149 - val_accuracy: 0.0278\n",
      "Epoch 90/100\n",
      "3/3 - 0s - loss: 0.0010 - accuracy: 0.0109 - val_loss: 0.0178 - val_accuracy: 0.0278\n",
      "Epoch 91/100\n",
      "3/3 - 0s - loss: 0.0010 - accuracy: 0.0109 - val_loss: 0.0182 - val_accuracy: 0.0278\n",
      "Epoch 92/100\n",
      "3/3 - 0s - loss: 9.9115e-04 - accuracy: 0.0109 - val_loss: 0.0155 - val_accuracy: 0.0278\n",
      "Epoch 93/100\n",
      "3/3 - 0s - loss: 0.0010 - accuracy: 0.0109 - val_loss: 0.0163 - val_accuracy: 0.0278\n",
      "Epoch 94/100\n",
      "3/3 - 0s - loss: 9.8311e-04 - accuracy: 0.0109 - val_loss: 0.0187 - val_accuracy: 0.0278\n",
      "Epoch 95/100\n",
      "3/3 - 0s - loss: 9.9770e-04 - accuracy: 0.0109 - val_loss: 0.0171 - val_accuracy: 0.0278\n",
      "Epoch 96/100\n",
      "3/3 - 0s - loss: 9.8451e-04 - accuracy: 0.0109 - val_loss: 0.0167 - val_accuracy: 0.0278\n",
      "Epoch 97/100\n",
      "3/3 - 0s - loss: 0.0010 - accuracy: 0.0109 - val_loss: 0.0182 - val_accuracy: 0.0278\n",
      "Epoch 98/100\n",
      "3/3 - 0s - loss: 0.0011 - accuracy: 0.0109 - val_loss: 0.0172 - val_accuracy: 0.0278\n",
      "Epoch 99/100\n",
      "3/3 - 0s - loss: 0.0011 - accuracy: 0.0109 - val_loss: 0.0156 - val_accuracy: 0.0278\n",
      "Epoch 100/100\n",
      "3/3 - 0s - loss: 0.0010 - accuracy: 0.0109 - val_loss: 0.0215 - val_accuracy: 0.0278\n",
      "Train Score: 18.97 RMSE\n",
      "Test Score: 53.19 RMSE\n",
      "Train Score: 18.97 RMSE\n",
      "Test Score: 53.19 RMSE\n"
     ]
    }
   ],
   "source": [
    "model.fit(trainX, trainY, validation_data=(testX, testY),\n",
    "          verbose=2, epochs=100)\n",
    "\n",
    "\n",
    "trainPredict = model.predict(trainX)\n",
    "testPredict = model.predict(testX)\n",
    "\n",
    "\n",
    "# invert predictions back to prescaled values\n",
    "#This is to compare with original input values\n",
    "#Since we used minmaxscaler we can now use scaler.inverse_transform\n",
    "#to invert the transformation\n",
    "trainPredict = scaler.inverse_transform(trainPredict)\n",
    "trainY = scaler.inverse_transform([trainY])\n",
    "testPredict = scaler.inverse_transform(testPredict)\n",
    "testY = scaler.inverse_transform([testY])\n",
    "\n",
    "# calculate root mean squared error\n",
    "trainScore = math.sqrt(mean_squared_error(trainY[0], trainPredict[:,0]))\n",
    "print('Train Score: %.2f RMSE' % (trainScore))\n",
    "\n",
    "testScore = math.sqrt(mean_squared_error(testY[0], testPredict[:,0]))\n",
    "print('Test Score: %.2f RMSE' % (testScore))\n",
    "\n",
    "\n"
   ]
  },
  {
   "cell_type": "code",
   "execution_count": 32,
   "id": "93c06865",
   "metadata": {},
   "outputs": [
    {
     "data": {
      "image/png": "[encoded data removed]",
      "text/plain": [
       "<Figure size 432x288 with 1 Axes>"
      ]
     },
     "metadata": {
      "needs_background": "light"
     },
     "output_type": "display_data"
    }
   ],
   "source": [
    "\n",
    "#x-axes must be aligned for the predictions\n",
    "trainPredictPlot = np.empty_like(dataset)\n",
    "trainPredictPlot[:, :] = np.nan\n",
    "trainPredictPlot[seq_size:len(trainPredict)+seq_size, :] = trainPredict\n",
    "\n",
    "testPredictPlot = np.empty_like(dataset)\n",
    "testPredictPlot[:, :] = np.nan\n",
    "testPredictPlot[len(trainPredict)+(seq_size*2)+1:len(dataset)-1, :] = testPredict\n",
    "\n",
    "#plotting\n",
    "plt.plot(scaler.inverse_transform(dataset))\n",
    "plt.plot(trainPredictPlot)\n",
    "plt.plot(testPredictPlot)\n",
    "plt.show()\n",
    "\n"
   ]
  },
  {
   "cell_type": "code",
   "execution_count": null,
   "id": "585bbea9",
   "metadata": {},
   "outputs": [],
   "source": []
  }
 ],
 "metadata": {
  "kernelspec": {
   "display_name": "Python 3",
   "language": "python",
   "name": "python3"
  },
  "language_info": {
   "codemirror_mode": {
    "name": "ipython",
    "version": 3
   },
   "file_extension": ".py",
   "mimetype": "text/x-python",
   "name": "python",
   "nbconvert_exporter": "python",
   "pygments_lexer": "ipython3",
   "version": "3.8.10"
  }
 },
 "nbformat": 4,
 "nbformat_minor": 5
}
