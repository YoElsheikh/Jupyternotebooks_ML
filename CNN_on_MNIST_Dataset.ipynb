{
 "cells": [
  {
   "cell_type": "markdown",
   "metadata": {
    "id": "f5Wdz64-pJrH"
   },
   "source": [
    "#Using Convolutional Neural Networks to clasify handwritten digits from 0-9"
   ]
  },
  {
   "cell_type": "code",
   "execution_count": null,
   "metadata": {
    "id": "3He8bgTNWmxH"
   },
   "outputs": [],
   "source": [
    "# Description: using CNN to clasify handwritten digits from 0-9"
   ]
  },
  {
   "cell_type": "code",
   "execution_count": 3,
   "metadata": {
    "id": "5pKp3ScEXHBn"
   },
   "outputs": [],
   "source": [
    "#importing the necessary libraries \n",
    "\n",
    "from keras.models import Sequential \n",
    "from keras.layers import Dense, Conv2D, Flatten\n",
    "from keras.datasets import mnist \n",
    "#from keras.utils import to_categorical \n",
    "#moved to:\n",
    "from tensorflow.keras.utils import to_categorical #later used to One-Hot \n",
    "#y/output data Encoding \n",
    "import matplotlib.pyplot as plt\n",
    "import numpy as np\n"
   ]
  },
  {
   "cell_type": "code",
   "execution_count": null,
   "metadata": {
    "id": "FeAfyJD0YWGG"
   },
   "outputs": [],
   "source": [
    "#Loading and then splitting the available data to training set and testing set\n",
    "(x_train, y_train), (x_test, y_test) = mnist.load_data()"
   ]
  },
  {
   "cell_type": "code",
   "execution_count": 9,
   "metadata": {
    "colab": {
     "base_uri": "https://localhost:8080/",
     "height": 315
    },
    "id": "nLrnI5OTYwL5",
    "outputId": "9c4d872d-8f8d-4c13-9c88-1d800470c075"
   },
   "outputs": [
    {
     "name": "stdout",
     "output_type": "stream",
     "text": [
      "(60000, 28, 28)\n",
      "(10000, 28, 28)\n",
      "5\n"
     ]
    },
    {
     "data": {
      "image/png": "[encoded data removed]",
      "text/plain": [
       "<Figure size 432x288 with 1 Axes>"
      ]
     },
     "metadata": {
      "needs_background": "light",
      "tags": []
     },
     "output_type": "display_data"
    }
   ],
   "source": [
    "#images are present in the x_train/x_shape\n",
    "print(x_train.shape)\n",
    "print(x_test.shape)\n",
    "plt.imshow(x_train[0])\n",
    "print (y_train[0])\n"
   ]
  },
  {
   "cell_type": "markdown",
   "metadata": {
    "id": "9G45PdV2w2zl"
   },
   "source": [
    "  \n",
    "\n",
    "\n",
    "*   Loading the model\n",
    "\n",
    "\n",
    "\n"
   ]
  },
  {
   "cell_type": "markdown",
   "metadata": {
    "id": "iIIwpftWpmpC"
   },
   "source": [
    "\n",
    "\n",
    "*   Reshaping the data to fit the model\n",
    "60000 rows, 28x28 pixels and depth of 1, which is the greyscale.\n",
    "*   Data is also split into:\n",
    "\n",
    "1.   training input set x_train and the corresponding output set y_train\n",
    "2.   testing input set x_test and the corresponding output set y_test\n",
    "\n",
    "\n",
    "\n",
    "\n"
   ]
  },
  {
   "cell_type": "code",
   "execution_count": 13,
   "metadata": {
    "colab": {
     "base_uri": "https://localhost:8080/",
     "height": 0
    },
    "id": "LSpEkgQnZ8Xy",
    "outputId": "b2865e97-d6a1-4149-bb33-83312b4f2dae"
   },
   "outputs": [
    {
     "name": "stdout",
     "output_type": "stream",
     "text": [
      "[0. 0. 0. 0. 0. 1. 0. 0. 0. 0.]\n"
     ]
    }
   ],
   "source": [
    "#Reshaping the data to fit the model\n",
    "#60000 rows, 28x28 pixels and depth of 1, which is the greyscale\n",
    "x_train = x_train.reshape(60000, 28, 28, 1)\n",
    "x_test = x_test.reshape(10000, 28, 28, 1)\n",
    "\n",
    "#for the y_test/train we encode the data using One-Hot Encoding technique \n",
    "y_train_one_hot = to_categorical (y_train)\n",
    "y_test_one_hot = to_categorical (y_test)\n",
    "\n",
    "print(y_train_one_hot[0])"
   ]
  },
  {
   "cell_type": "markdown",
   "metadata": {
    "id": "eNd5RhoNq8ZP"
   },
   "source": [
    "\n",
    "\n",
    "*   We set 2 convolutional layers with a 3x3 kernel, and the activation is the rectified linear function\n",
    "*   Then to get a one dimentional array we flatten our data\n",
    "*    And lastly, adding a Dense layer with 10 neurons and probability distribution activation function, i.e. Softmax \n",
    "  \n",
    "\n",
    "\n",
    "\n",
    "\n",
    "\n",
    "\n",
    "\n",
    "\n",
    "="
   ]
  },
  {
   "cell_type": "code",
   "execution_count": 15,
   "metadata": {
    "id": "2zPglnzLbSnk"
   },
   "outputs": [],
   "source": [
    "#Building the CNN model\n",
    "model = Sequential()\n",
    "#addind model layers:\n",
    "#1st the convolutional layer taking an input, with 64 channels\n",
    "#3x3 kernel, and the activation is rectified linear\n",
    "model.add(Conv2D(64, \n",
    "                 kernel_size =3, \n",
    "                 activation = 'relu',\n",
    "                 input_shape = (28, 28, 1)))\n",
    "model.add(Conv2D(32, \n",
    "                 kernel_size =3, \n",
    "                 activation = 'relu'))\n",
    "#flattening the arrays into a one dimentional array:\n",
    "model.add(Flatten())\n",
    "#at the output we have 10 outputs, we will use the softmax for probability\n",
    "#distribution, because you don't need an activation at the last layer\n",
    "model.add(Dense(10, activation = 'softmax'))\n",
    "\n",
    "\n"
   ]
  },
  {
   "cell_type": "markdown",
   "metadata": {
    "id": "tgNwEGnNscYE"
   },
   "source": [
    "\n",
    "\n",
    "\n",
    "\n",
    "*   The model is now compiled\n",
    "*   the default ADAM optimizer is used, the learning rate associated with ADAM is 0.001, which then decays step-wise resulting in an appropriate convergence to the minumum of the error function\n",
    "*   and for the loss function the cross_categoricalentropy is used because the classifications output is > 2, i.e. non-binary\n",
    "\n",
    "   \n",
    "\n",
    "\n",
    "\n"
   ]
  },
  {
   "cell_type": "code",
   "execution_count": 16,
   "metadata": {
    "id": "2Swh2reueBUt"
   },
   "outputs": [],
   "source": [
    "#we now compile the model\n",
    "#the default ADAM optimizer is used, the learning rate associated with ADAM\n",
    "#is 0.001, which then decays step-wise resulting in an appropriate \n",
    "#convergence to the minumum of the error function\n",
    "#and for the loss function the \n",
    "#cross_categoricalentropy is used because the classifications output\n",
    "#is > 2, i.e. non-binary\n",
    "model.compile(optimizer = 'adam',\n",
    "              loss = 'categorical_crossentropy',\n",
    "              metrics = ['accuracy'])"
   ]
  },
  {
   "cell_type": "markdown",
   "metadata": {
    "id": "ZraqRGRqtGnT"
   },
   "source": [
    "\n",
    "\n",
    "*   Fitting the model and storing it in the variable 'history'\n",
    "\n"
   ]
  },
  {
   "cell_type": "code",
   "execution_count": 18,
   "metadata": {
    "colab": {
     "base_uri": "https://localhost:8080/",
     "height": 0
    },
    "id": "KlDSDYW8fC2p",
    "outputId": "5393f18c-8253-40c8-c29a-fe2aaaf15573"
   },
   "outputs": [
    {
     "name": "stdout",
     "output_type": "stream",
     "text": [
      "Epoch 1/3\n",
      "1875/1875 [==============================] - 185s 91ms/step - loss: 0.7390 - accuracy: 0.9134 - val_loss: 0.0977 - val_accuracy: 0.9704\n",
      "Epoch 2/3\n",
      "1875/1875 [==============================] - 170s 91ms/step - loss: 0.0614 - accuracy: 0.9815 - val_loss: 0.0636 - val_accuracy: 0.9810\n",
      "Epoch 3/3\n",
      "1875/1875 [==============================] - 170s 91ms/step - loss: 0.0396 - accuracy: 0.9875 - val_loss: 0.0767 - val_accuracy: 0.9800\n"
     ]
    }
   ],
   "source": [
    "#training the model\n",
    "history = model.fit(x_train, y_train_one_hot,\n",
    "                    validation_data = (x_test, y_test_one_hot), \n",
    "                    epochs = 3)"
   ]
  },
  {
   "cell_type": "markdown",
   "metadata": {
    "id": "5F6fIrtqvfwp"
   },
   "source": [
    "############## NOTES AND Remarks##################\n",
    "\n",
    "\n",
    "\n",
    "*   THE LOSS CURVE INDICATED THAT THE MODEL IS DOING GOOD ON THE TRAININD DATA BUT NOT SO MUCH ON THE VALIDATION DATA, BECAUSE OF THE BEHAVIOUR AND IT SPLITS AND DIVERGES. THIS INDICATED THAT THE MODEL IS OVERFITTING\n",
    "*   -WE COULD STOP AT 2 EPOCHS AND THE MODEL WOULD BE GOOD OR MAYBE INCREASE THE NUMBER OF EPOCHS TO SEE IF THERE EXISTS A CONVERGENCE BEHAVIOUR AFTER THE 3rd, 4th ... etc. epochs.\n",
    "\n",
    "\n",
    "THIS CAN BE FIXED BY:\n",
    "\n",
    "\n",
    "1.   CHANGING THE NUMBER OF NEURONS/DEPTH OF LAYERS\n",
    "2.   ADDING A DROP OUT\n",
    "1.  SPLITTING THE DATA DIFFENTLY SO THAT IT IS MORE DIVERSE/REPRESENTATIVE\n",
    "\n",
    "\n",
    "\n",
    "\n",
    "\n",
    "\n",
    "\n"
   ]
  },
  {
   "cell_type": "code",
   "execution_count": 19,
   "metadata": {
    "colab": {
     "base_uri": "https://localhost:8080/",
     "height": 573
    },
    "id": "XMNFrSTWf154",
    "outputId": "af2c1cc6-c95e-4c1c-a052-9c33f3ee5661"
   },
   "outputs": [
    {
     "data": {
      "image/png": "[encoded data removed]",
      "text/plain": [
       "<Figure size 432x288 with 1 Axes>"
      ]
     },
     "metadata": {
      "needs_background": "light",
      "tags": []
     },
     "output_type": "display_data"
    },
    {
     "data": {
      "image/png": "[encoded data removed]",
      "text/plain": [
       "<Figure size 432x288 with 1 Axes>"
      ]
     },
     "metadata": {
      "needs_background": "light",
      "tags": []
     },
     "output_type": "display_data"
    }
   ],
   "source": [
    "#Drawing the loss and accuracy curves\n",
    "\n",
    "loss = history.history['loss']\n",
    "val_loss = history.history['val_loss']\n",
    "epochs = range (1, len(loss) + 1)\n",
    "plt.plot(epochs, loss, 'g', label = 'Training loss')\n",
    "plt.plot(epochs, val_loss, 'b', label = 'Validation loss')\n",
    "plt.title('Training and Validation Loss')\n",
    "plt.xlabel('Epochs')\n",
    "plt.ylabel('Loss')\n",
    "plt.legend()\n",
    "plt.show()\n",
    "\n",
    "accuracy = history.history['accuracy']\n",
    "val_accuracy = history.history['val_accuracy']\n",
    "plt.plot(epochs, accuracy, 'g', label = 'Training accuracy')\n",
    "plt.plot(epochs, val_accuracy, 'b', label = 'Validation accuracy')\n",
    "plt.title('Training and Validation Accuracy')\n",
    "plt.xlabel('Epochs')\n",
    "plt.ylabel('Accuracy')\n",
    "plt.legend()\n",
    "plt.show()\n",
    "\n",
    "##############NOTES AND FINDINGS##################\n",
    "\n",
    "## THE LOSS CURVE INDICATED THAT THE MODEL IS DOING GOOD ON THE TRAININD DATA\n",
    "## BUT NOT SO MUCH ON THE VALIDATION DATA, BECAUSE OF THE BEHAVIOUR AND IT \n",
    "## SPLITS AND DIVERGES. THIS INDICATED THAT THE MODEL IS OVERFITTING\n",
    "\n",
    "## WE COULD STOP AT 2 EPOCHS AND THE MODEL WOULD BE GOOD\n",
    "## OR MAYBE INCREASE THE NUMBER OF EPOCHS TO SEE IF THERE EXISTS A CONVERGENCE\n",
    "## BEHAVIOUR AFTER THE 3rd, 4th ... etc. epochs.\n",
    "\n",
    "## THIS CAN BE FIXED BY:\n",
    "## 1__CHANGING THE NUMBER OF NEURONS/DEPTH OF LAYERS\n",
    "## 2__ADDING A DROP OUT\n",
    "## 3__SPLITTING THE DATA DIFFENTLY SO THAT IT IS MORE DIVERSE/REPRESENTATIVE"
   ]
  }
 ],
 "metadata": {
  "colab": {
   "collapsed_sections": [],
   "name": "CNN on MNIST Dataset.ipynb",
   "provenance": []
  },
  "kernelspec": {
   "display_name": "Python 3",
   "language": "python",
   "name": "python3"
  },
  "language_info": {
   "codemirror_mode": {
    "name": "ipython",
    "version": 3
   },
   "file_extension": ".py",
   "mimetype": "text/x-python",
   "name": "python",
   "nbconvert_exporter": "python",
   "pygments_lexer": "ipython3",
   "version": "3.8.10"
  }
 },
 "nbformat": 4,
 "nbformat_minor": 1
}
