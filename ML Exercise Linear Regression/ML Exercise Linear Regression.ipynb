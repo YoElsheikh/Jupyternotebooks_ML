{
 "cells": [
  {
   "cell_type": "markdown",
   "metadata": {},
   "source": [
    "# Linear Regression"
   ]
  },
  {
   "cell_type": "markdown",
   "metadata": {},
   "source": [
    "* Linear regression is a supervised machine learning algorithm\n",
    "\n",
    "* Its predicted output is continuous\n",
    "\n",
    "* There are two main types:\n",
    "\n",
    "    * Simple regression \\begin{equation} p = w x + b \\end{equation}\n",
    "    * Multivariable regression \\begin{equation} f(x,y,z) = w_1 x + w_2 y + w_3 z \\end{equation}\n",
    "\n",
    "where,<br> \n",
    "    <b>$p$</b> and <b>$f(x,y,z)$</b> are the predictions <br>\n",
    "    <b>$w$</b> represents the weight <br>\n",
    "    <b>$b$</b> is the bias term <br>\n",
    "    <b>$x, y$</b> and <b>$z$</b> are the inputs\n",
    "    \n",
    "The model will try to learn the optimum values for weight and bias terms to get the line of best fit.\n",
    "\n",
    "<img style=\"float: left;\" width=\"400\" src=\"Linregr.png\">"
   ]
  },
  {
   "cell_type": "code",
   "execution_count": 68,
   "metadata": {},
   "outputs": [],
   "source": [
    "# simple linear regression model\n",
    "def simple_LinR(x, w, b):\n",
    "    return w*x + b"
   ]
  },
  {
   "cell_type": "markdown",
   "metadata": {},
   "source": [
    "## Cost Function\n",
    "\n",
    "* A cost function is required to optimize the weights\n",
    "\n",
    "* Mean Squared Error (MSE) is used as cost function\n",
    "\n",
    "* Goal is to improve the accuracy of model by minimizing the MSE \n",
    "\n",
    "* For simple linear regression, MSE can be calculated as:\n",
    "\n",
    "\\begin{equation} MSE =  \\frac{1}{N} \\sum_{i=1}^{N} (y_i - (wx_i + b))^2 \\end{equation}\n",
    "\n",
    "where,<br> \n",
    "    <b><i>$N$</i></b> shows the total number of observations <br>\n",
    "    <b>$\\frac{1}{N} \\sum_{i=1}^{N}$</b> is the mean <br>\n",
    "    <b>$y_i$</b> is the actual value <br>\n",
    "    <b>$(wx_i + b)$</b> is the prediction"
   ]
  },
  {
   "cell_type": "code",
   "execution_count": 69,
   "metadata": {},
   "outputs": [],
   "source": [
    "def cost_function(x, y, w, b):\n",
    "    samples = len(x)\n",
    "    total_error = 0.0\n",
    "    for i in range(samples):\n",
    "        total_error += (y[i] - (w*x[i] + b))**2\n",
    "    return total_error / samples"
   ]
  },
  {
   "cell_type": "markdown",
   "metadata": {},
   "source": [
    "## Gradient Descent\n",
    "\n",
    "* Gradient descent is used to calculate the gradient of cost function\n",
    "\n",
    "* Cost function:\n",
    "\n",
    "\\begin{equation} f(w,b) =  \\frac{1}{N} \\sum_{i=1}^{N} (y_i - (wx_i + b))^2 \\end{equation}\n",
    "\n",
    "* Gradient can be calculated as:\n",
    "\n",
    "\\begin{equation}\n",
    "f'(w,b) =\n",
    "   \\begin{bmatrix}\n",
    "     \\frac{df}{dw}\\\\\n",
    "     \\frac{df}{db}\\\\\n",
    "    \\end{bmatrix}\n",
    "=\n",
    "   \\begin{bmatrix}\n",
    "     \\frac{1}{N} \\sum -2x_i(y_i - (wx_i + b)) \\\\\n",
    "     \\frac{1}{N} \\sum -2(y_i - (wx_i + b)) \\\\\n",
    "    \\end{bmatrix}\n",
    "\\end{equation}"
   ]
  },
  {
   "cell_type": "code",
   "execution_count": 70,
   "metadata": {},
   "outputs": [],
   "source": [
    "def update_weights(x, y, w, b, a):\n",
    "    # a is the learning rate\n",
    "    w_der = 0\n",
    "    b_der = 0\n",
    "    samples = len(x)\n",
    "\n",
    "    for i in range(samples):\n",
    "        # Calculating partial derivatives\n",
    "        # -2x(y - (wx + b))\n",
    "        w_der += -2*x[i] * (y[i] - (w*x[i] + b))\n",
    "\n",
    "        # -2(y - (wx + b))\n",
    "        b_der += -2*(y[i] - (w*x[i] + b))\n",
    "\n",
    "    # subtracting because the derivatives point in the direction of steepest ascent\n",
    "    w -= (w_der / samples) * a\n",
    "    b -= (b_der / samples) * a\n",
    "\n",
    "    return w, b"
   ]
  },
  {
   "cell_type": "markdown",
   "metadata": {},
   "source": [
    "## Training\n",
    "\n",
    "* The process of iteratively improving the prediction\n",
    "\n",
    "* Data is accessed multiple times to update weight and bias values\n",
    "\n",
    "* Training is complete when an acceptable error threshold reaches, or further iterations fail to reduce the cost"
   ]
  },
  {
   "cell_type": "code",
   "execution_count": 71,
   "metadata": {},
   "outputs": [],
   "source": [
    "def train(x, y, w, b, a, iters):\n",
    "    cost_record = []\n",
    "\n",
    "    for i in range(iters):\n",
    "        w,b = update_weights(x, y, w, b, a)\n",
    "\n",
    "        #Calculate cost for auditing purposes\n",
    "        cost = cost_function(x, y, w, b)\n",
    "        cost_record.append(cost)\n",
    "        #pred = simple_LinR(x,w,b)\n",
    "\n",
    "        # Log Progress\n",
    "        if i % 10 == 0:\n",
    "            print(\"iter= \"+str(i) + \"     weight= \"+str(w) + \"     bias= \"+str(b) + \"      cost= \"+str(cost))\n",
    "            #plt.plot(x, pred)\n",
    "\n",
    "    return w, b, cost_record"
   ]
  },
  {
   "cell_type": "markdown",
   "metadata": {},
   "source": [
    "## Execution\n",
    "\n",
    "Discalimer: The following example has been designed to show how the algorithm works.\n",
    "Solving the problem is not the real concern here at the moment"
   ]
  },
  {
   "cell_type": "code",
   "execution_count": 72,
   "metadata": {},
   "outputs": [],
   "source": [
    "import matplotlib.pyplot as plt\n",
    "import seaborn as sns\n",
    "import pandas as pd\n",
    "from sklearn.datasets import load_diabetes"
   ]
  },
  {
   "cell_type": "code",
   "execution_count": 73,
   "metadata": {},
   "outputs": [
    {
     "data": {
      "text/html": [
       "<div>\n",
       "<style scoped>\n",
       "    .dataframe tbody tr th:only-of-type {\n",
       "        vertical-align: middle;\n",
       "    }\n",
       "\n",
       "    .dataframe tbody tr th {\n",
       "        vertical-align: top;\n",
       "    }\n",
       "\n",
       "    .dataframe thead th {\n",
       "        text-align: right;\n",
       "    }\n",
       "</style>\n",
       "<table border=\"1\" class=\"dataframe\">\n",
       "  <thead>\n",
       "    <tr style=\"text-align: right;\">\n",
       "      <th></th>\n",
       "      <th>age</th>\n",
       "      <th>sex</th>\n",
       "      <th>bmi</th>\n",
       "      <th>bp</th>\n",
       "      <th>s1</th>\n",
       "      <th>s2</th>\n",
       "      <th>s3</th>\n",
       "      <th>s4</th>\n",
       "      <th>s5</th>\n",
       "      <th>s6</th>\n",
       "      <th>target</th>\n",
       "    </tr>\n",
       "  </thead>\n",
       "  <tbody>\n",
       "    <tr>\n",
       "      <th>0</th>\n",
       "      <td>0.038076</td>\n",
       "      <td>0.050680</td>\n",
       "      <td>0.061696</td>\n",
       "      <td>0.021872</td>\n",
       "      <td>-0.044223</td>\n",
       "      <td>-0.034821</td>\n",
       "      <td>-0.043401</td>\n",
       "      <td>-0.002592</td>\n",
       "      <td>0.019908</td>\n",
       "      <td>-0.017646</td>\n",
       "      <td>151.0</td>\n",
       "    </tr>\n",
       "    <tr>\n",
       "      <th>1</th>\n",
       "      <td>-0.001882</td>\n",
       "      <td>-0.044642</td>\n",
       "      <td>-0.051474</td>\n",
       "      <td>-0.026328</td>\n",
       "      <td>-0.008449</td>\n",
       "      <td>-0.019163</td>\n",
       "      <td>0.074412</td>\n",
       "      <td>-0.039493</td>\n",
       "      <td>-0.068330</td>\n",
       "      <td>-0.092204</td>\n",
       "      <td>75.0</td>\n",
       "    </tr>\n",
       "    <tr>\n",
       "      <th>2</th>\n",
       "      <td>0.085299</td>\n",
       "      <td>0.050680</td>\n",
       "      <td>0.044451</td>\n",
       "      <td>-0.005671</td>\n",
       "      <td>-0.045599</td>\n",
       "      <td>-0.034194</td>\n",
       "      <td>-0.032356</td>\n",
       "      <td>-0.002592</td>\n",
       "      <td>0.002864</td>\n",
       "      <td>-0.025930</td>\n",
       "      <td>141.0</td>\n",
       "    </tr>\n",
       "    <tr>\n",
       "      <th>3</th>\n",
       "      <td>-0.089063</td>\n",
       "      <td>-0.044642</td>\n",
       "      <td>-0.011595</td>\n",
       "      <td>-0.036656</td>\n",
       "      <td>0.012191</td>\n",
       "      <td>0.024991</td>\n",
       "      <td>-0.036038</td>\n",
       "      <td>0.034309</td>\n",
       "      <td>0.022692</td>\n",
       "      <td>-0.009362</td>\n",
       "      <td>206.0</td>\n",
       "    </tr>\n",
       "    <tr>\n",
       "      <th>4</th>\n",
       "      <td>0.005383</td>\n",
       "      <td>-0.044642</td>\n",
       "      <td>-0.036385</td>\n",
       "      <td>0.021872</td>\n",
       "      <td>0.003935</td>\n",
       "      <td>0.015596</td>\n",
       "      <td>0.008142</td>\n",
       "      <td>-0.002592</td>\n",
       "      <td>-0.031991</td>\n",
       "      <td>-0.046641</td>\n",
       "      <td>135.0</td>\n",
       "    </tr>\n",
       "  </tbody>\n",
       "</table>\n",
       "</div>"
      ],
      "text/plain": [
       "        age       sex       bmi        bp        s1        s2        s3  \\\n",
       "0  0.038076  0.050680  0.061696  0.021872 -0.044223 -0.034821 -0.043401   \n",
       "1 -0.001882 -0.044642 -0.051474 -0.026328 -0.008449 -0.019163  0.074412   \n",
       "2  0.085299  0.050680  0.044451 -0.005671 -0.045599 -0.034194 -0.032356   \n",
       "3 -0.089063 -0.044642 -0.011595 -0.036656  0.012191  0.024991 -0.036038   \n",
       "4  0.005383 -0.044642 -0.036385  0.021872  0.003935  0.015596  0.008142   \n",
       "\n",
       "         s4        s5        s6  target  \n",
       "0 -0.002592  0.019908 -0.017646   151.0  \n",
       "1 -0.039493 -0.068330 -0.092204    75.0  \n",
       "2 -0.002592  0.002864 -0.025930   141.0  \n",
       "3  0.034309  0.022692 -0.009362   206.0  \n",
       "4 -0.002592 -0.031991 -0.046641   135.0  "
      ]
     },
     "execution_count": 73,
     "metadata": {},
     "output_type": "execute_result"
    }
   ],
   "source": [
    "diabetes = load_diabetes()\n",
    "df_diabetes = pd.DataFrame(diabetes.data, columns=diabetes.feature_names)\n",
    "df_diabetes['target'] = diabetes.target\n",
    "df_diabetes.head()"
   ]
  },
  {
   "cell_type": "markdown",
   "metadata": {},
   "source": [
    "### Description of Dataset\n",
    "\n",
    "* Total samples: 442\n",
    "* Given below are the predictive features:\n",
    "    1. age: age in years\n",
    "    2. sex\n",
    "    3. bmi: body mass index\n",
    "    4. bp: average blood pressure\n",
    "    5. s1: tc, total serum cholesterol\n",
    "    6. s2: ldl, low-density lipoproteins\n",
    "    7. s3: hdl, high-density lipoproteins\n",
    "    8. s4: tch, total cholesterol / HDL\n",
    "    9. s5: ltg, possibly log of serum triglycerides level\n",
    "    10. s6: glu, blood sugar level"
   ]
  },
  {
   "cell_type": "code",
   "execution_count": 74,
   "metadata": {},
   "outputs": [
    {
     "data": {
      "text/plain": [
       "Text(0, 0.5, 'target')"
      ]
     },
     "execution_count": 74,
     "metadata": {},
     "output_type": "execute_result"
    },
    {
     "data": {
      "image/png": "[encoded data removed]",
      "text/plain": [
       "<Figure size 432x288 with 1 Axes>"
      ]
     },
     "metadata": {
      "needs_background": "light"
     },
     "output_type": "display_data"
    }
   ],
   "source": [
    "feature = 'bmi'\n",
    "X = df_diabetes['bmi']\n",
    "Y = df_diabetes['target']\n",
    "plt.scatter(X, Y , marker='o')\n",
    "plt.xlabel(feature)\n",
    "plt.ylabel('target')"
   ]
  },
  {
   "cell_type": "code",
   "execution_count": 75,
   "metadata": {},
   "outputs": [
    {
     "name": "stdout",
     "output_type": "stream",
     "text": [
      "iter= 0     weight= 1.7382152855892408     bias= 91.52009049773761      cost= 9596.407699893012\n",
      "iter= 10     weight= 14.52457978989278     bias= 152.12712838790836      cost= 5867.963369497439\n",
      "iter= 20     weight= 27.138430178970918     bias= 152.13348349644463      cost= 5814.962112624866\n",
      "iter= 30     weight= 39.58209401981436     bias= 152.13348416282608      cost= 5763.38143691602\n",
      "iter= 40     weight= 51.8578674757917     bias= 152.13348416289597      cost= 5713.183228583347\n",
      "iter= 50     weight= 63.96801573034815     bias= 152.13348416289597      cost= 5664.3304346797995\n",
      "iter= 60     weight= 75.91477340498795     bias= 152.13348416289597      cost= 5616.786995352916\n",
      "iter= 70     weight= 87.70034497161718     bias= 152.133484162896      cost= 5570.517817227867\n",
      "iter= 80     weight= 99.32690515932329     bias= 152.133484162896      cost= 5525.48874750393\n",
      "iter= 90     weight= 110.79659935566629     bias= 152.13348416289602      cost= 5481.66654874508\n"
     ]
    }
   ],
   "source": [
    "w = 0.45 #0.02\n",
    "b = 0.6 #1\n",
    "a = 0.3\n",
    "iters = 100\n",
    "w, b, cost_record = train(X, Y, w, b, a, iters)"
   ]
  },
  {
   "cell_type": "code",
   "execution_count": 76,
   "metadata": {},
   "outputs": [
    {
     "data": {
      "text/plain": [
       "[<matplotlib.lines.Line2D at 0x1a0f8f1ae20>]"
      ]
     },
     "execution_count": 76,
     "metadata": {},
     "output_type": "execute_result"
    },
    {
     "data": {
      "image/png": "[encoded data removed]",
      "text/plain": [
       "<Figure size 432x288 with 1 Axes>"
      ]
     },
     "metadata": {
      "needs_background": "light"
     },
     "output_type": "display_data"
    }
   ],
   "source": [
    "plt.plot(cost_record)"
   ]
  },
  {
   "cell_type": "markdown",
   "metadata": {},
   "source": [
    "## Multivariable Regression\n",
    "\n",
    "\\begin{equation} f(x,y,z) = w_1 x + w_2 y + w_3 z \\end{equation}\n",
    "\n",
    "### Cost Function\n",
    "\n",
    "\\begin{equation} MSE =  \\frac{1}{2N} \\sum_{i=1}^{N} (y_i - (w_1x_i + w_2y_i + w_3z_i))^2 \\end{equation}\n",
    "\n",
    "### Gradient Descent\n",
    "\n",
    "\\begin{align}\n",
    "f'(w_1) = -x_1(y - (w_1x_i + w_2y_i + w_3z_i)) \\\\\n",
    "f'(w_2) = -x_2(y - (w_1x_i + w_2y_i + w_3z_i)) \\\\\n",
    "f'(w_3) = -x_3(y - (w_1x_i + w_2y_i + w_3z_i))\n",
    "\\end{align}"
   ]
  },
  {
   "cell_type": "markdown",
   "metadata": {},
   "source": [
    "## Gradient Descent (detailed steps for simple linear regression)\n",
    "\n",
    "Since cost function is MSE:\n",
    "\\begin{equation} f(w,b) =  \\frac{1}{N} \\sum_{i=1}^{N} (y_i - (wx_i + b))^2 \\end{equation}\n",
    "\n",
    "let \n",
    "\\begin{equation} (y_i - (wx_i + b))^2 = A(B(w,b)) \\end{equation}\n",
    "\n",
    "splitting the derivative into outer and inner function\n",
    "\\begin{equation} A(x) = x^2 \\end{equation}\n",
    "\\begin{equation} \\frac{df}{dx} = A'(x) = 2x \\end{equation}\n",
    "\n",
    "and\n",
    "\\begin{equation} B(w,b) = y_i - (wx_i + b) = y_i - wx_i - b \\end{equation}\n",
    "\\begin{equation} \\frac{dx}{dw} = B'(w) = 0 - x_i - 0 = -x_i \\end{equation}\n",
    "\\begin{equation} \\frac{dx}{db} = B'(b) = 0 - 0 - 1 = -1 \\end{equation}\n",
    "\n",
    "by <i>chain rule</i>\n",
    "\n",
    "\\begin{equation} \\frac{df}{dw} = \\frac{df}{dx} \\frac{dx}{dw} \\end{equation}\n",
    "\\begin{equation} \\frac{df}{db} = \\frac{df}{dx} \\frac{dx}{db} \\end{equation}\n",
    "\n",
    "substituting the respective values to get the following derivatives\n",
    "\n",
    "\\begin{equation}\n",
    "f'(w,b) =\n",
    "   \\begin{bmatrix}\n",
    "     \\frac{df}{dw}\\\\\n",
    "     \\frac{df}{db}\\\\\n",
    "    \\end{bmatrix}\n",
    "=\n",
    "   \\begin{bmatrix}\n",
    "     \\frac{1}{N} \\sum -x_i . 2(y_i - (wx_i + b)) \\\\\n",
    "     \\frac{1}{N} \\sum -1 . 2(y_i - (wx_i + b)) \\\\\n",
    "    \\end{bmatrix}\n",
    "\\end{equation}\n",
    "\n",
    "\\begin{equation} =\n",
    "   \\begin{bmatrix}\n",
    "     \\frac{1}{N} \\sum -2x_i(y_i - (wx_i + b)) \\\\\n",
    "     \\frac{1}{N} \\sum -2(y_i - (wx_i + b)) \\\\\n",
    "    \\end{bmatrix}\n",
    "\\end{equation}"
   ]
  },
  {
   "cell_type": "markdown",
   "metadata": {},
   "source": [
    "## References\n",
    "\n",
    "[1] https://en.wikipedia.org/wiki/Linear_regression\n",
    "\n",
    "[2] Efron, B., Hastie, T., Johnstone, I. and Tibshirani, R., 2004. Least angle regression. Annals of statistics, 32(2), pp.407-499.\n",
    "\n",
    "[3] http://machinelearningmastery.com/simple-linear-regression-tutorial-for-machine-learning"
   ]
  }
 ],
 "metadata": {
  "kernelspec": {
   "display_name": "Python 3",
   "language": "python",
   "name": "python3"
  },
  "language_info": {
   "codemirror_mode": {
    "name": "ipython",
    "version": 3
   },
   "file_extension": ".py",
   "mimetype": "text/x-python",
   "name": "python",
   "nbconvert_exporter": "python",
   "pygments_lexer": "ipython3",
   "version": "3.8.10"
  }
 },
 "nbformat": 4,
 "nbformat_minor": 4
}
