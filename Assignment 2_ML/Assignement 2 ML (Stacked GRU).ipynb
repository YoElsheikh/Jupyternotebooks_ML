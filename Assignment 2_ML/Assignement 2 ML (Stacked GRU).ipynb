{
 "cells": [
  {
   "cell_type": "markdown",
   "id": "7544790f",
   "metadata": {},
   "source": [
    "## Predicting Passengers' Data Using Stacked GRU with One Hidden Layer"
   ]
  },
  {
   "cell_type": "code",
   "execution_count": 25,
   "id": "9eacdc24",
   "metadata": {},
   "outputs": [
    {
     "data": {
      "text/plain": [
       "'\\nDataset is from: https://raw.githubusercontent.com/jbrownlee/Datasets/master/airline-passengers.csv\\nInternational Airline Passengers data is to be predicted.\\nGiven a year and a month, the task is to predict the number of international airline passengers per 1,000. \\nThe data is from January 1949 to December 1960 (12 years, with 144 observations).\\n'"
      ]
     },
     "execution_count": 25,
     "metadata": {},
     "output_type": "execute_result"
    }
   ],
   "source": [
    "\"\"\"\n",
    "Dataset is from: https://raw.githubusercontent.com/jbrownlee/Datasets/master/airline-passengers.csv\n",
    "International Airline Passengers data is to be predicted.\n",
    "Given a year and a month, the task is to predict the number of international airline passengers per 1,000. \n",
    "The data is from January 1949 to December 1960 (12 years, with 144 observations).\n",
    "\"\"\""
   ]
  },
  {
   "cell_type": "code",
   "execution_count": 12,
   "id": "f2af8482",
   "metadata": {},
   "outputs": [],
   "source": [
    "import numpy\n",
    "numpy.version.version\n",
    "\n",
    "#importing the necessary libraries\n",
    "import numpy as np\n",
    "import matplotlib.pyplot as plt\n",
    "import pandas as pd\n",
    "from pandas import read_csv\n",
    "import math\n",
    "\n",
    "from keras.models import Sequential\n",
    "from keras.layers import Dense\n",
    "from keras.layers import GRU\n",
    "from sklearn.preprocessing import MinMaxScaler\n",
    "from sklearn.metrics import mean_squared_error"
   ]
  },
  {
   "cell_type": "code",
   "execution_count": 13,
   "id": "9eba346e",
   "metadata": {},
   "outputs": [
    {
     "data": {
      "text/plain": [
       "'1.19.2'"
      ]
     },
     "execution_count": 13,
     "metadata": {},
     "output_type": "execute_result"
    }
   ],
   "source": [
    "#The code only ran when i downgraded to numpy 1.19.2, using 1.20.2 gave a datatype error when passing through the LSTM\n",
    "numpy.version.version\n",
    "#pip install numpy 1.19.2"
   ]
  },
  {
   "cell_type": "code",
   "execution_count": 14,
   "id": "fe446a2f",
   "metadata": {},
   "outputs": [
    {
     "data": {
      "image/png": "[encoded data removed]",
      "text/plain": [
       "<Figure size 432x288 with 1 Axes>"
      ]
     },
     "metadata": {
      "needs_background": "light"
     },
     "output_type": "display_data"
    }
   ],
   "source": [
    "#pd.read_csv('c:\\Users\\asus\\Desktop\\airline-passengers.csv')\n",
    "\n",
    "#load the dataset + using only column number 1\n",
    "dataframe = read_csv(r\"c:\\Users\\asus\\Desktop\\airline-passengers.csv\", usecols=[1])\n",
    "plt.plot(dataframe)\n",
    "\n",
    "#Convert pandas dataframe to numpy array\n",
    "dataset = dataframe.values\n",
    "dataset = dataset.astype('float32') #Convert values to float"
   ]
  },
  {
   "cell_type": "code",
   "execution_count": 15,
   "id": "e59c265e",
   "metadata": {},
   "outputs": [
    {
     "name": "stdout",
     "output_type": "stream",
     "text": [
      "44\n",
      "100\n"
     ]
    }
   ],
   "source": [
    "#Normalizing the dataset since the activation functions sigmoid and tanh are sensitive to magnitude\n",
    "scaler = MinMaxScaler(feature_range=(0, 1)) #Also try QuantileTransformer\n",
    "dataset = scaler.fit_transform(dataset)\n",
    "\n",
    "#Splitting the data into trainig and testing sets\n",
    "train_size = int(len(dataset) * 0.70)\n",
    "test_size = len(dataset) - train_size\n",
    "train, test = dataset[0:train_size,:], dataset[train_size:len(dataset),:]\n",
    "\n",
    "print(test_size)\n",
    "print(train_size)"
   ]
  },
  {
   "cell_type": "code",
   "execution_count": 16,
   "id": "9d0f727e",
   "metadata": {},
   "outputs": [
    {
     "name": "stdout",
     "output_type": "stream",
     "text": [
      "Shape of training set: (92, 7)\n",
      "Shape of test set: (36, 7)\n",
      "7\n"
     ]
    }
   ],
   "source": [
    "#Since we are dealing with a single sequence of data, we need to rearrange our X and Y vectors\n",
    "#this creates a dataset where X is the number of passengers at a given time (t, t-1, t-2...) \n",
    "#and Y is the number of passengers at the next time (t + 1).\n",
    "\n",
    "def to_sequences(dataset, seq_size=1):\n",
    "    x = []\n",
    "    y = []\n",
    "\n",
    "    for i in range(len(dataset)-seq_size-1):\n",
    "        #print(i)\n",
    "        window = dataset[i:(i+seq_size), 0]\n",
    "        x.append(window)\n",
    "        y.append(dataset[i+seq_size, 0])\n",
    "        \n",
    "    return np.array(x),np.array(y)\n",
    "\n",
    "seq_size = 7  # Number of time steps to look back \n",
    "#Larger sequences (look further back) may improve forecasting.\n",
    "\n",
    "\n",
    "\n",
    "trainX, trainY = to_sequences(train, seq_size)\n",
    "testX, testY = to_sequences(test, seq_size)\n",
    "\n",
    "\n",
    "\n",
    "print(\"Shape of training set: {}\".format(trainX.shape))\n",
    "print(\"Shape of test set: {}\".format(testX.shape))\n",
    "\n",
    "\n",
    "print(trainX.shape[1])\n",
    "#print(trainX)"
   ]
  },
  {
   "cell_type": "code",
   "execution_count": 17,
   "id": "dba3076e",
   "metadata": {},
   "outputs": [],
   "source": [
    "\n",
    "\n",
    "trainX = np.reshape(trainX, (trainX.shape[0], 1, trainX.shape[1]))\n",
    "testX = np.reshape(testX, (testX.shape[0], 1, testX.shape[1]))\n"
   ]
  },
  {
   "cell_type": "code",
   "execution_count": 19,
   "id": "5dbc3480",
   "metadata": {},
   "outputs": [
    {
     "name": "stdout",
     "output_type": "stream",
     "text": [
      "Model: \"sequential_3\"\n",
      "_________________________________________________________________\n",
      "Layer (type)                 Output Shape              Param #   \n",
      "=================================================================\n",
      "gru (GRU)                    (None, None, 50)          8850      \n",
      "_________________________________________________________________\n",
      "gru_1 (GRU)                  (None, 50)                15300     \n",
      "_________________________________________________________________\n",
      "dense (Dense)                (None, 32)                1632      \n",
      "_________________________________________________________________\n",
      "dense_1 (Dense)              (None, 1)                 33        \n",
      "=================================================================\n",
      "Total params: 25,815\n",
      "Trainable params: 25,815\n",
      "Non-trainable params: 0\n",
      "_________________________________________________________________\n",
      "Train...\n"
     ]
    }
   ],
   "source": [
    "\n",
    "\n",
    "#Reshape input to be [samples, time steps, features]\n",
    "#Stacked LSTM with 1 hidden dense layer\n",
    "#trainX = np.reshape(trainX, (trainX.shape[0], 1, trainX.shape[1]))\n",
    "#testX = np.reshape(testX, (testX.shape[0], 1, testX.shape[1]))\n",
    "model = Sequential()\n",
    "model.add(GRU(50, activation='relu', return_sequences=True, input_shape=(None, seq_size)))\n",
    "model.add(GRU(50, activation='relu'))\n",
    "model.add(Dense(32))\n",
    "model.add(Dense(1))\n",
    "model.compile(optimizer='adam',\n",
    "              loss='mean_squared_error',\n",
    "              metrics=['accuracy'])\n",
    "\n",
    "model.summary()\n",
    "print('Train...')\n",
    "\n",
    "\n"
   ]
  },
  {
   "cell_type": "code",
   "execution_count": 20,
   "id": "ec8db2d0",
   "metadata": {},
   "outputs": [
    {
     "name": "stdout",
     "output_type": "stream",
     "text": [
      "Epoch 1/100\n",
      "3/3 - 0s - loss: 0.0636 - accuracy: 0.0109 - val_loss: 0.3175 - val_accuracy: 0.0000e+00\n",
      "Epoch 2/100\n",
      "3/3 - 0s - loss: 0.0433 - accuracy: 0.0109 - val_loss: 0.2398 - val_accuracy: 0.0000e+00\n",
      "Epoch 3/100\n",
      "3/3 - 0s - loss: 0.0265 - accuracy: 0.0109 - val_loss: 0.1694 - val_accuracy: 0.0000e+00\n",
      "Epoch 4/100\n",
      "3/3 - 0s - loss: 0.0165 - accuracy: 0.0109 - val_loss: 0.1089 - val_accuracy: 0.0000e+00\n",
      "Epoch 5/100\n",
      "3/3 - 0s - loss: 0.0112 - accuracy: 0.0109 - val_loss: 0.0652 - val_accuracy: 0.0000e+00\n",
      "Epoch 6/100\n",
      "3/3 - 0s - loss: 0.0112 - accuracy: 0.0109 - val_loss: 0.0433 - val_accuracy: 0.0278\n",
      "Epoch 7/100\n",
      "3/3 - 0s - loss: 0.0135 - accuracy: 0.0109 - val_loss: 0.0372 - val_accuracy: 0.0278\n",
      "Epoch 8/100\n",
      "3/3 - 0s - loss: 0.0132 - accuracy: 0.0109 - val_loss: 0.0409 - val_accuracy: 0.0278\n",
      "Epoch 9/100\n",
      "3/3 - 0s - loss: 0.0112 - accuracy: 0.0109 - val_loss: 0.0517 - val_accuracy: 0.0000e+00\n",
      "Epoch 10/100\n",
      "3/3 - 0s - loss: 0.0096 - accuracy: 0.0109 - val_loss: 0.0639 - val_accuracy: 0.0000e+00\n",
      "Epoch 11/100\n",
      "3/3 - 0s - loss: 0.0091 - accuracy: 0.0109 - val_loss: 0.0719 - val_accuracy: 0.0000e+00\n",
      "Epoch 12/100\n",
      "3/3 - 0s - loss: 0.0090 - accuracy: 0.0109 - val_loss: 0.0714 - val_accuracy: 0.0000e+00\n",
      "Epoch 13/100\n",
      "3/3 - 0s - loss: 0.0087 - accuracy: 0.0109 - val_loss: 0.0648 - val_accuracy: 0.0000e+00\n",
      "Epoch 14/100\n",
      "3/3 - 0s - loss: 0.0080 - accuracy: 0.0109 - val_loss: 0.0529 - val_accuracy: 0.0000e+00\n",
      "Epoch 15/100\n",
      "3/3 - 0s - loss: 0.0072 - accuracy: 0.0109 - val_loss: 0.0410 - val_accuracy: 0.0278\n",
      "Epoch 16/100\n",
      "3/3 - 0s - loss: 0.0068 - accuracy: 0.0109 - val_loss: 0.0321 - val_accuracy: 0.0278\n",
      "Epoch 17/100\n",
      "3/3 - 0s - loss: 0.0065 - accuracy: 0.0109 - val_loss: 0.0276 - val_accuracy: 0.0278\n",
      "Epoch 18/100\n",
      "3/3 - 0s - loss: 0.0062 - accuracy: 0.0109 - val_loss: 0.0272 - val_accuracy: 0.0278\n",
      "Epoch 19/100\n",
      "3/3 - 0s - loss: 0.0056 - accuracy: 0.0109 - val_loss: 0.0274 - val_accuracy: 0.0278\n",
      "Epoch 20/100\n",
      "3/3 - 0s - loss: 0.0052 - accuracy: 0.0109 - val_loss: 0.0270 - val_accuracy: 0.0278\n",
      "Epoch 21/100\n",
      "3/3 - 0s - loss: 0.0050 - accuracy: 0.0109 - val_loss: 0.0258 - val_accuracy: 0.0278\n",
      "Epoch 22/100\n",
      "3/3 - 0s - loss: 0.0049 - accuracy: 0.0109 - val_loss: 0.0236 - val_accuracy: 0.0278\n",
      "Epoch 23/100\n",
      "3/3 - 0s - loss: 0.0046 - accuracy: 0.0109 - val_loss: 0.0226 - val_accuracy: 0.0278\n",
      "Epoch 24/100\n",
      "3/3 - 0s - loss: 0.0045 - accuracy: 0.0109 - val_loss: 0.0222 - val_accuracy: 0.0278\n",
      "Epoch 25/100\n",
      "3/3 - 0s - loss: 0.0044 - accuracy: 0.0109 - val_loss: 0.0220 - val_accuracy: 0.0278\n",
      "Epoch 26/100\n",
      "3/3 - 0s - loss: 0.0044 - accuracy: 0.0109 - val_loss: 0.0218 - val_accuracy: 0.0278\n",
      "Epoch 27/100\n",
      "3/3 - 0s - loss: 0.0043 - accuracy: 0.0109 - val_loss: 0.0215 - val_accuracy: 0.0278\n",
      "Epoch 28/100\n",
      "3/3 - 0s - loss: 0.0042 - accuracy: 0.0109 - val_loss: 0.0213 - val_accuracy: 0.0278\n",
      "Epoch 29/100\n",
      "3/3 - 0s - loss: 0.0042 - accuracy: 0.0109 - val_loss: 0.0209 - val_accuracy: 0.0278\n",
      "Epoch 30/100\n",
      "3/3 - 0s - loss: 0.0041 - accuracy: 0.0109 - val_loss: 0.0207 - val_accuracy: 0.0278\n",
      "Epoch 31/100\n",
      "3/3 - 0s - loss: 0.0040 - accuracy: 0.0109 - val_loss: 0.0203 - val_accuracy: 0.0278\n",
      "Epoch 32/100\n",
      "3/3 - 0s - loss: 0.0040 - accuracy: 0.0109 - val_loss: 0.0199 - val_accuracy: 0.0278\n",
      "Epoch 33/100\n",
      "3/3 - 0s - loss: 0.0039 - accuracy: 0.0109 - val_loss: 0.0195 - val_accuracy: 0.0278\n",
      "Epoch 34/100\n",
      "3/3 - 0s - loss: 0.0039 - accuracy: 0.0109 - val_loss: 0.0191 - val_accuracy: 0.0278\n",
      "Epoch 35/100\n",
      "3/3 - 0s - loss: 0.0038 - accuracy: 0.0109 - val_loss: 0.0187 - val_accuracy: 0.0278\n",
      "Epoch 36/100\n",
      "3/3 - 0s - loss: 0.0037 - accuracy: 0.0109 - val_loss: 0.0183 - val_accuracy: 0.0278\n",
      "Epoch 37/100\n",
      "3/3 - 0s - loss: 0.0037 - accuracy: 0.0109 - val_loss: 0.0180 - val_accuracy: 0.0278\n",
      "Epoch 38/100\n",
      "3/3 - 0s - loss: 0.0036 - accuracy: 0.0109 - val_loss: 0.0176 - val_accuracy: 0.0278\n",
      "Epoch 39/100\n",
      "3/3 - 0s - loss: 0.0035 - accuracy: 0.0109 - val_loss: 0.0172 - val_accuracy: 0.0278\n",
      "Epoch 40/100\n",
      "3/3 - 0s - loss: 0.0035 - accuracy: 0.0109 - val_loss: 0.0169 - val_accuracy: 0.0278\n",
      "Epoch 41/100\n",
      "3/3 - 0s - loss: 0.0035 - accuracy: 0.0109 - val_loss: 0.0166 - val_accuracy: 0.0278\n",
      "Epoch 42/100\n",
      "3/3 - 0s - loss: 0.0034 - accuracy: 0.0109 - val_loss: 0.0162 - val_accuracy: 0.0278\n",
      "Epoch 43/100\n",
      "3/3 - 0s - loss: 0.0033 - accuracy: 0.0109 - val_loss: 0.0158 - val_accuracy: 0.0278\n",
      "Epoch 44/100\n",
      "3/3 - 0s - loss: 0.0033 - accuracy: 0.0109 - val_loss: 0.0155 - val_accuracy: 0.0278\n",
      "Epoch 45/100\n",
      "3/3 - 0s - loss: 0.0032 - accuracy: 0.0109 - val_loss: 0.0150 - val_accuracy: 0.0278\n",
      "Epoch 46/100\n",
      "3/3 - 0s - loss: 0.0031 - accuracy: 0.0109 - val_loss: 0.0147 - val_accuracy: 0.0278\n",
      "Epoch 47/100\n",
      "3/3 - 0s - loss: 0.0031 - accuracy: 0.0109 - val_loss: 0.0143 - val_accuracy: 0.0278\n",
      "Epoch 48/100\n",
      "3/3 - 0s - loss: 0.0030 - accuracy: 0.0109 - val_loss: 0.0140 - val_accuracy: 0.0278\n",
      "Epoch 49/100\n",
      "3/3 - 0s - loss: 0.0030 - accuracy: 0.0109 - val_loss: 0.0137 - val_accuracy: 0.0278\n",
      "Epoch 50/100\n",
      "3/3 - 0s - loss: 0.0029 - accuracy: 0.0109 - val_loss: 0.0132 - val_accuracy: 0.0278\n",
      "Epoch 51/100\n",
      "3/3 - 0s - loss: 0.0028 - accuracy: 0.0109 - val_loss: 0.0129 - val_accuracy: 0.0278\n",
      "Epoch 52/100\n",
      "3/3 - 0s - loss: 0.0028 - accuracy: 0.0109 - val_loss: 0.0126 - val_accuracy: 0.0278\n",
      "Epoch 53/100\n",
      "3/3 - 0s - loss: 0.0027 - accuracy: 0.0109 - val_loss: 0.0123 - val_accuracy: 0.0278\n",
      "Epoch 54/100\n",
      "3/3 - 0s - loss: 0.0027 - accuracy: 0.0109 - val_loss: 0.0119 - val_accuracy: 0.0278\n",
      "Epoch 55/100\n",
      "3/3 - 0s - loss: 0.0026 - accuracy: 0.0109 - val_loss: 0.0118 - val_accuracy: 0.0278\n",
      "Epoch 56/100\n",
      "3/3 - 0s - loss: 0.0026 - accuracy: 0.0109 - val_loss: 0.0113 - val_accuracy: 0.0278\n",
      "Epoch 57/100\n",
      "3/3 - 0s - loss: 0.0025 - accuracy: 0.0109 - val_loss: 0.0113 - val_accuracy: 0.0278\n",
      "Epoch 58/100\n",
      "3/3 - 0s - loss: 0.0025 - accuracy: 0.0109 - val_loss: 0.0109 - val_accuracy: 0.0278\n",
      "Epoch 59/100\n",
      "3/3 - 0s - loss: 0.0024 - accuracy: 0.0109 - val_loss: 0.0107 - val_accuracy: 0.0278\n",
      "Epoch 60/100\n",
      "3/3 - 0s - loss: 0.0024 - accuracy: 0.0109 - val_loss: 0.0107 - val_accuracy: 0.0278\n",
      "Epoch 61/100\n",
      "3/3 - 0s - loss: 0.0024 - accuracy: 0.0109 - val_loss: 0.0103 - val_accuracy: 0.0278\n",
      "Epoch 62/100\n",
      "3/3 - 0s - loss: 0.0023 - accuracy: 0.0109 - val_loss: 0.0101 - val_accuracy: 0.0278\n",
      "Epoch 63/100\n",
      "3/3 - 0s - loss: 0.0023 - accuracy: 0.0109 - val_loss: 0.0099 - val_accuracy: 0.0278\n",
      "Epoch 64/100\n",
      "3/3 - 0s - loss: 0.0023 - accuracy: 0.0109 - val_loss: 0.0098 - val_accuracy: 0.0278\n",
      "Epoch 65/100\n",
      "3/3 - 0s - loss: 0.0022 - accuracy: 0.0109 - val_loss: 0.0098 - val_accuracy: 0.0278\n",
      "Epoch 66/100\n",
      "3/3 - 0s - loss: 0.0022 - accuracy: 0.0109 - val_loss: 0.0094 - val_accuracy: 0.0278\n",
      "Epoch 67/100\n",
      "3/3 - 0s - loss: 0.0022 - accuracy: 0.0109 - val_loss: 0.0094 - val_accuracy: 0.0278\n",
      "Epoch 68/100\n",
      "3/3 - 0s - loss: 0.0022 - accuracy: 0.0109 - val_loss: 0.0097 - val_accuracy: 0.0278\n",
      "Epoch 69/100\n",
      "3/3 - 0s - loss: 0.0021 - accuracy: 0.0109 - val_loss: 0.0091 - val_accuracy: 0.0278\n",
      "Epoch 70/100\n",
      "3/3 - 0s - loss: 0.0021 - accuracy: 0.0109 - val_loss: 0.0090 - val_accuracy: 0.0278\n",
      "Epoch 71/100\n",
      "3/3 - 0s - loss: 0.0021 - accuracy: 0.0109 - val_loss: 0.0092 - val_accuracy: 0.0278\n",
      "Epoch 72/100\n",
      "3/3 - 0s - loss: 0.0021 - accuracy: 0.0109 - val_loss: 0.0092 - val_accuracy: 0.0278\n",
      "Epoch 73/100\n",
      "3/3 - 0s - loss: 0.0021 - accuracy: 0.0109 - val_loss: 0.0091 - val_accuracy: 0.0278\n",
      "Epoch 74/100\n",
      "3/3 - 0s - loss: 0.0021 - accuracy: 0.0109 - val_loss: 0.0087 - val_accuracy: 0.0278\n",
      "Epoch 75/100\n",
      "3/3 - 0s - loss: 0.0020 - accuracy: 0.0109 - val_loss: 0.0091 - val_accuracy: 0.0278\n",
      "Epoch 76/100\n",
      "3/3 - 0s - loss: 0.0020 - accuracy: 0.0109 - val_loss: 0.0092 - val_accuracy: 0.0278\n",
      "Epoch 77/100\n",
      "3/3 - 0s - loss: 0.0020 - accuracy: 0.0109 - val_loss: 0.0088 - val_accuracy: 0.0278\n",
      "Epoch 78/100\n",
      "3/3 - 0s - loss: 0.0020 - accuracy: 0.0109 - val_loss: 0.0086 - val_accuracy: 0.0278\n",
      "Epoch 79/100\n",
      "3/3 - 0s - loss: 0.0020 - accuracy: 0.0109 - val_loss: 0.0092 - val_accuracy: 0.0278\n",
      "Epoch 80/100\n",
      "3/3 - 0s - loss: 0.0020 - accuracy: 0.0109 - val_loss: 0.0085 - val_accuracy: 0.0278\n",
      "Epoch 81/100\n",
      "3/3 - 0s - loss: 0.0020 - accuracy: 0.0109 - val_loss: 0.0086 - val_accuracy: 0.0278\n",
      "Epoch 82/100\n",
      "3/3 - 0s - loss: 0.0019 - accuracy: 0.0109 - val_loss: 0.0089 - val_accuracy: 0.0278\n",
      "Epoch 83/100\n",
      "3/3 - 0s - loss: 0.0020 - accuracy: 0.0109 - val_loss: 0.0085 - val_accuracy: 0.0278\n",
      "Epoch 84/100\n",
      "3/3 - 0s - loss: 0.0020 - accuracy: 0.0109 - val_loss: 0.0088 - val_accuracy: 0.0278\n"
     ]
    },
    {
     "name": "stdout",
     "output_type": "stream",
     "text": [
      "Epoch 85/100\n",
      "3/3 - 0s - loss: 0.0019 - accuracy: 0.0109 - val_loss: 0.0084 - val_accuracy: 0.0278\n",
      "Epoch 86/100\n",
      "3/3 - 0s - loss: 0.0019 - accuracy: 0.0109 - val_loss: 0.0087 - val_accuracy: 0.0278\n",
      "Epoch 87/100\n",
      "3/3 - 0s - loss: 0.0019 - accuracy: 0.0109 - val_loss: 0.0086 - val_accuracy: 0.0278\n",
      "Epoch 88/100\n",
      "3/3 - 0s - loss: 0.0020 - accuracy: 0.0109 - val_loss: 0.0083 - val_accuracy: 0.0278\n",
      "Epoch 89/100\n",
      "3/3 - 0s - loss: 0.0020 - accuracy: 0.0109 - val_loss: 0.0090 - val_accuracy: 0.0278\n",
      "Epoch 90/100\n",
      "3/3 - 0s - loss: 0.0019 - accuracy: 0.0109 - val_loss: 0.0082 - val_accuracy: 0.0278\n",
      "Epoch 91/100\n",
      "3/3 - 0s - loss: 0.0020 - accuracy: 0.0109 - val_loss: 0.0082 - val_accuracy: 0.0278\n",
      "Epoch 92/100\n",
      "3/3 - 0s - loss: 0.0020 - accuracy: 0.0109 - val_loss: 0.0096 - val_accuracy: 0.0278\n",
      "Epoch 93/100\n",
      "3/3 - 0s - loss: 0.0019 - accuracy: 0.0109 - val_loss: 0.0081 - val_accuracy: 0.0278\n",
      "Epoch 94/100\n",
      "3/3 - 0s - loss: 0.0019 - accuracy: 0.0109 - val_loss: 0.0080 - val_accuracy: 0.0278\n",
      "Epoch 95/100\n",
      "3/3 - 0s - loss: 0.0019 - accuracy: 0.0109 - val_loss: 0.0092 - val_accuracy: 0.0278\n",
      "Epoch 96/100\n",
      "3/3 - 0s - loss: 0.0019 - accuracy: 0.0109 - val_loss: 0.0085 - val_accuracy: 0.0278\n",
      "Epoch 97/100\n",
      "3/3 - 0s - loss: 0.0018 - accuracy: 0.0109 - val_loss: 0.0084 - val_accuracy: 0.0278\n",
      "Epoch 98/100\n",
      "3/3 - 0s - loss: 0.0018 - accuracy: 0.0109 - val_loss: 0.0083 - val_accuracy: 0.0278\n",
      "Epoch 99/100\n",
      "3/3 - 0s - loss: 0.0019 - accuracy: 0.0109 - val_loss: 0.0080 - val_accuracy: 0.0278\n",
      "Epoch 100/100\n",
      "3/3 - 0s - loss: 0.0018 - accuracy: 0.0109 - val_loss: 0.0088 - val_accuracy: 0.0278\n",
      "Train Score: 22.10 RMSE\n",
      "Test Score: 48.57 RMSE\n",
      "Train Score: 22.10 RMSE\n",
      "Test Score: 48.57 RMSE\n"
     ]
    }
   ],
   "source": [
    "model.fit(trainX, trainY, validation_data=(testX, testY),\n",
    "          verbose=2, epochs=100)\n",
    "\n",
    "\n",
    "trainPredict = model.predict(trainX)\n",
    "testPredict = model.predict(testX)\n",
    "\n",
    "\n",
    "# invert predictions back to prescaled values\n",
    "#This is to compare with original input values\n",
    "#Since we used minmaxscaler we can now use scaler.inverse_transform\n",
    "#to invert the transformation\n",
    "trainPredict = scaler.inverse_transform(trainPredict)\n",
    "trainY = scaler.inverse_transform([trainY])\n",
    "testPredict = scaler.inverse_transform(testPredict)\n",
    "testY = scaler.inverse_transform([testY])\n",
    "\n",
    "# calculate root mean squared error\n",
    "trainScore = math.sqrt(mean_squared_error(trainY[0], trainPredict[:,0]))\n",
    "print('Train Score: %.2f RMSE' % (trainScore))\n",
    "\n",
    "testScore = math.sqrt(mean_squared_error(testY[0], testPredict[:,0]))\n",
    "print('Test Score: %.2f RMSE' % (testScore))\n",
    "\n"
   ]
  },
  {
   "cell_type": "code",
   "execution_count": 24,
   "id": "d0b4582d",
   "metadata": {},
   "outputs": [
    {
     "data": {
      "image/png": "[encoded data removed]",
      "text/plain": [
       "<Figure size 432x288 with 1 Axes>"
      ]
     },
     "metadata": {
      "needs_background": "light"
     },
     "output_type": "display_data"
    }
   ],
   "source": [
    "#x-axes must be aligned for the predictions\n",
    "trainPredictPlot = np.empty_like(dataset)\n",
    "trainPredictPlot[:, :] = np.nan\n",
    "trainPredictPlot[seq_size:len(trainPredict)+seq_size, :] = trainPredict\n",
    "\n",
    "testPredictPlot = np.empty_like(dataset)\n",
    "testPredictPlot[:, :] = np.nan\n",
    "testPredictPlot[len(trainPredict)+(seq_size*2)+1:len(dataset)-1, :] = testPredict\n",
    "\n",
    "#plotting\n",
    "plt.plot(scaler.inverse_transform(dataset))\n",
    "plt.plot(trainPredictPlot)\n",
    "plt.plot(testPredictPlot)\n",
    "plt.show()"
   ]
  },
  {
   "cell_type": "code",
   "execution_count": null,
   "id": "b1cea2cd",
   "metadata": {},
   "outputs": [],
   "source": []
  }
 ],
 "metadata": {
  "kernelspec": {
   "display_name": "Python 3",
   "language": "python",
   "name": "python3"
  },
  "language_info": {
   "codemirror_mode": {
    "name": "ipython",
    "version": 3
   },
   "file_extension": ".py",
   "mimetype": "text/x-python",
   "name": "python",
   "nbconvert_exporter": "python",
   "pygments_lexer": "ipython3",
   "version": "3.8.10"
  }
 },
 "nbformat": 4,
 "nbformat_minor": 5
}
