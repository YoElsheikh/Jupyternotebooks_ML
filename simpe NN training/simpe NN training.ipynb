{
 "cells": [
  {
   "cell_type": "code",
   "execution_count": 1,
   "metadata": {},
   "outputs": [
    {
     "name": "stdout",
     "output_type": "stream",
     "text": [
      "Random starting synaptic weights:\n",
      "[[-0.16595599]\n",
      " [ 0.44064899]\n",
      " [-0.99977125]]\n",
      "Outputs after training:\n",
      "[[0.00213009]\n",
      " [0.99826132]\n",
      " [0.99858161]\n",
      " [0.00173782]]\n"
     ]
    }
   ],
   "source": [
    "import numpy as np\n",
    "def sigmoid (x):\n",
    "    return 1 / (1 + np.exp(-x))\n",
    "\n",
    "def sigmoid_derivative (x):\n",
    "    return x * (1 - x)\n",
    "\n",
    "training_inputs = np.array([[0,0,1],\n",
    "                            [1,1,1],\n",
    "                            [1,0,1],\n",
    "                            [0,1,1]])\n",
    "\n",
    "training_outputs1 = np.array([[0,1,1,0]]) \n",
    "\n",
    "training_outputs = training_outputs1.T\n",
    "\n",
    "np.random.seed(1)\n",
    "\n",
    "synaptic_weights =  2 * np.random.random((3,1)) - 1\n",
    "\n",
    "print ('Random starting synaptic weights:')\n",
    "print (synaptic_weights)\n",
    "\n",
    "for iteration in range (200000):\n",
    "    \n",
    "    input_layer = training_inputs\n",
    "    outputs = sigmoid(np.dot(input_layer, synaptic_weights))\n",
    "    \n",
    "    error = training_outputs - outputs\n",
    "    adjustments = error * sigmoid_derivative(outputs) #weadjust the weightds\n",
    "    #according to the error and the sigmoid deriv. @ the outputs, since\n",
    "    #large sig.der. indicate low confidence, and the weights are penalized \n",
    "    #accordingly and vice versa\n",
    "    \n",
    "    synaptic_weights += np.dot(input_layer.T, adjustments)\n",
    "    \n",
    "print('Outputs after training:')\n",
    "print(outputs)\n"
   ]
  },
  {
   "cell_type": "code",
   "execution_count": 2,
   "metadata": {},
   "outputs": [
    {
     "name": "stdout",
     "output_type": "stream",
     "text": [
      "[[0 0 1]\n",
      " [1 1 1]\n",
      " [1 0 1]\n",
      " [0 1 1]]\n"
     ]
    }
   ],
   "source": [
    "print(training_inputs)"
   ]
  },
  {
   "cell_type": "code",
   "execution_count": null,
   "metadata": {},
   "outputs": [],
   "source": []
  }
 ],
 "metadata": {
  "kernelspec": {
   "display_name": "Python 3",
   "language": "python",
   "name": "python3"
  },
  "language_info": {
   "codemirror_mode": {
    "name": "ipython",
    "version": 3
   },
   "file_extension": ".py",
   "mimetype": "text/x-python",
   "name": "python",
   "nbconvert_exporter": "python",
   "pygments_lexer": "ipython3",
   "version": "3.8.10"
  }
 },
 "nbformat": 4,
 "nbformat_minor": 2
}
