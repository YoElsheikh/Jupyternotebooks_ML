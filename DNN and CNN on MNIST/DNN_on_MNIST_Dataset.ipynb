{
 "cells": [
  {
   "cell_type": "markdown",
   "metadata": {},
   "source": [
    "\n",
    "# Digit classification with DNN\n",
    "An example of classification using a deep neural network for the famous MNIST dataset\n",
    "\n",
    "\n",
    "## Objectives :\n",
    " - Recognizing handwritten numbers\n",
    " - Understanding the principle of a classifier DNN  \n",
    " - Implementation with Keras \n",
    "\n",
    "\n",
    "The MNIST dataset (Modified National Institute of Standards and Technology).  \n",
    "It consists of 60,000 small images of handwritten numbers for learning and 10,000 for testing.\n",
    "\n",
    "\n",
    "## To do :\n",
    "\n",
    " - Retrieve data\n",
    " - Preparing the data\n",
    " - Create a model\n",
    " - Train the model\n",
    " - Evaluate the result\n"
   ]
  },
  {
   "cell_type": "markdown",
   "metadata": {},
   "source": [
    "## Step 1 - Import required libraries"
   ]
  },
  {
   "cell_type": "code",
   "execution_count": 33,
   "metadata": {
    "tags": []
   },
   "outputs": [],
   "source": [
    "import tensorflow as tf\n",
    "from tensorflow import keras\n",
    "import numpy as np\n",
    "import matplotlib.pyplot as plt\n",
    "from utils import *\n",
    "#importing pylot additionally for subplotting\n",
    "#import pyploy as plt"
   ]
  },
  {
   "cell_type": "markdown",
   "metadata": {},
   "source": [
    "## Step 2 - Load MNIST data\n",
    "\n"
   ]
  },
  {
   "cell_type": "markdown",
   "metadata": {},
   "source": [
    "###  <font color='red'>Task 1: Load MNIST dataset from keras.datasets module </font>"
   ]
  },
  {
   "cell_type": "code",
   "execution_count": 34,
   "metadata": {},
   "outputs": [],
   "source": [
    "mnist = tf.keras.datasets.mnist\n",
    "(x_train, y_train), (x_test, y_test) = mnist.load_data()\n",
    "#x sub train/test is the image and pixel information\n",
    "#y sub train/test is the label of a particular picture i.e. 7\n",
    "#hence y sub train/test is the output"
   ]
  },
  {
   "cell_type": "code",
   "execution_count": 84,
   "metadata": {
    "tags": []
   },
   "outputs": [
    {
     "name": "stdout",
     "output_type": "stream",
     "text": [
      "x_train :  (60000, 28, 28)\n",
      "y_train :  (60000,)\n",
      "x_test  :  (10000, 28, 28)\n",
      "y_test  :  (10000,)\n"
     ]
    }
   ],
   "source": [
    "print(\"x_train : \",x_train.shape)\n",
    "print(\"y_train : \",y_train.shape)\n",
    "print(\"x_test  : \",x_test.shape)\n",
    "print(\"y_test  : \",y_test.shape)"
   ]
  },
  {
   "cell_type": "markdown",
   "metadata": {},
   "source": [
    "## Step 3 - Pre-process and prepare the data"
   ]
  },
  {
   "cell_type": "markdown",
   "metadata": {},
   "source": [
    "###  <font color='red'> Task 2: Normalize the data <font>\n",
    "* For most image data, the pixel values are integers with values between 0 and 255.\n",
    "* Neural networks process inputs using small weight values, and inputs with large integer values can disrupt or slow down the learning process. As such it is good practice to normalize the pixel values so that each pixel value has a value between 0 and 1."
   ]
  },
  {
   "cell_type": "code",
   "execution_count": 85,
   "metadata": {
    "tags": []
   },
   "outputs": [
    {
     "name": "stdout",
     "output_type": "stream",
     "text": [
      "Before normalization : Min=0.0, max=1.0\n",
      "After normalization  : Min=0.0, max=1.0\n"
     ]
    }
   ],
   "source": [
    "print('Before normalization : Min={}, max={}'.format(x_train.min(),x_train.max()))\n",
    "\n",
    "x_train = tf.keras.utils.normalize(x_train, axis = 1)\n",
    "x_test = tf.keras.utils.normalize(x_test, axis = 1)\n",
    "\n",
    "print('After normalization  : Min={}, max={}'.format(x_train.min(),x_train.max()))"
   ]
  },
  {
   "cell_type": "markdown",
   "metadata": {},
   "source": [
    "### <font color='red'> Task 3: Plot sample images from the dataset <font>\n",
    "1. plot 2 random images from \"x_train\" along with their labels"
   ]
  },
  {
   "cell_type": "code",
   "execution_count": 127,
   "metadata": {
    "tags": []
   },
   "outputs": [
    {
     "name": "stdout",
     "output_type": "stream",
     "text": [
      "[7, 1]\n",
      "7 1\n",
      "Associated label with the rand. num. 7  is: 3\n",
      "The image associated with this label is:\n"
     ]
    },
    {
     "data": {
      "image/png": "[encoded data removed]",
      "text/plain": [
       "<Figure size 432x288 with 1 Axes>"
      ]
     },
     "metadata": {
      "needs_background": "light"
     },
     "output_type": "display_data"
    },
    {
     "name": "stdout",
     "output_type": "stream",
     "text": [
      "associated label with the rand. num. 1  is: 0\n",
      "The image associated with this label is:\n"
     ]
    },
    {
     "data": {
      "image/png": "[encoded data removed]",
      "text/plain": [
       "<Figure size 432x288 with 1 Axes>"
      ]
     },
     "metadata": {
      "needs_background": "light"
     },
     "output_type": "display_data"
    }
   ],
   "source": [
    "#defining the subplot\n",
    "#pyplot.subplot(330 + 1 + i)\n",
    "#print(x_train[1])\n",
    "\n",
    "randomlist1 = random.sample(range(0,9), 2)\n",
    "print(randomlist1)\n",
    "i = randomlist1\n",
    "print(i[0],i[1])\n",
    "print(\"Associated label with the rand. num.\", i[0], \" is:\", y_train[i[0]])\n",
    "print(\"The image associated with this label is:\")\n",
    "plt.imshow(x_train[i[0]])\n",
    "plt.show()\n",
    "#pyplot.imprint(\"associated label is:\", y_train[i[0], i[1]])\n",
    "print(\"associated label with the rand. num.\", i[1], \" is:\", y_train[i[1]])\n",
    "print(\"The image associated with this label is:\")\n",
    "plt.imshow(x_train[i[1]])\n",
    "plt.show()\n"
   ]
  },
  {
   "cell_type": "markdown",
   "metadata": {},
   "source": [
    "## Step 4 - Create model"
   ]
  },
  {
   "cell_type": "code",
   "execution_count": 87,
   "metadata": {
    "tags": []
   },
   "outputs": [
    {
     "name": "stdout",
     "output_type": "stream",
     "text": [
      "Model: \"sequential_2\"\n",
      "_________________________________________________________________\n",
      "Layer (type)                 Output Shape              Param #   \n",
      "=================================================================\n",
      "flatten_2 (Flatten)          (None, 784)               0         \n",
      "_________________________________________________________________\n",
      "dense_6 (Dense)              (None, 100)               78500     \n",
      "_________________________________________________________________\n",
      "dense_7 (Dense)              (None, 100)               10100     \n",
      "_________________________________________________________________\n",
      "dense_8 (Dense)              (None, 10)                1010      \n",
      "=================================================================\n",
      "Total params: 89,610\n",
      "Trainable params: 89,610\n",
      "Non-trainable params: 0\n",
      "_________________________________________________________________\n"
     ]
    }
   ],
   "source": [
    "# define two hidden layers, with 100 neurons each\n",
    "hidden1     = 100\n",
    "hidden2     = 100\n",
    "\n",
    "# define model\n",
    "model = keras.Sequential([\n",
    "    keras.layers.Input((28,28)),\n",
    "    keras.layers.Flatten(),\n",
    "    keras.layers.Dense( hidden1, activation='relu'),\n",
    "    keras.layers.Dense( hidden2, activation='relu'),\n",
    "    keras.layers.Dense( 10,      activation='softmax')\n",
    "])\n",
    "model.compile(optimizer='adam',\n",
    "              loss='sparse_categorical_crossentropy',\n",
    "              metrics=['accuracy'])\n",
    "\n",
    "# print model summary\n",
    "model.summary()"
   ]
  },
  {
   "cell_type": "markdown",
   "metadata": {},
   "source": [
    "### Model Architecture:\n",
    "\n",
    "<img style=\"float: left;\" width=\"600\" src=\"mnist_dnn.png\">"
   ]
  },
  {
   "cell_type": "markdown",
   "metadata": {},
   "source": [
    "## Step 5 - Train the model"
   ]
  },
  {
   "cell_type": "code",
   "execution_count": 88,
   "metadata": {
    "tags": []
   },
   "outputs": [
    {
     "name": "stdout",
     "output_type": "stream",
     "text": [
      "Epoch 1/16\n",
      "118/118 [==============================] - 1s 4ms/step - loss: 0.7042 - accuracy: 0.8189 - val_loss: 0.2946 - val_accuracy: 0.9160\n",
      "Epoch 2/16\n",
      "118/118 [==============================] - 0s 4ms/step - loss: 0.2587 - accuracy: 0.9253 - val_loss: 0.2219 - val_accuracy: 0.9358\n",
      "Epoch 3/16\n",
      "118/118 [==============================] - 0s 4ms/step - loss: 0.2028 - accuracy: 0.9404 - val_loss: 0.1853 - val_accuracy: 0.9429\n",
      "Epoch 4/16\n",
      "118/118 [==============================] - 1s 4ms/step - loss: 0.1626 - accuracy: 0.9509 - val_loss: 0.1591 - val_accuracy: 0.9529\n",
      "Epoch 5/16\n",
      "118/118 [==============================] - 0s 4ms/step - loss: 0.1356 - accuracy: 0.9596 - val_loss: 0.1367 - val_accuracy: 0.9587\n",
      "Epoch 6/16\n",
      "118/118 [==============================] - 0s 4ms/step - loss: 0.1129 - accuracy: 0.9667 - val_loss: 0.1249 - val_accuracy: 0.9635\n",
      "Epoch 7/16\n",
      "118/118 [==============================] - 0s 4ms/step - loss: 0.0967 - accuracy: 0.9706 - val_loss: 0.1126 - val_accuracy: 0.9661\n",
      "Epoch 8/16\n",
      "118/118 [==============================] - 1s 4ms/step - loss: 0.0858 - accuracy: 0.9742 - val_loss: 0.1079 - val_accuracy: 0.9678\n",
      "Epoch 9/16\n",
      "118/118 [==============================] - 0s 4ms/step - loss: 0.0749 - accuracy: 0.9776 - val_loss: 0.1014 - val_accuracy: 0.9691\n",
      "Epoch 10/16\n",
      "118/118 [==============================] - 1s 4ms/step - loss: 0.0667 - accuracy: 0.9798 - val_loss: 0.1030 - val_accuracy: 0.9684\n",
      "Epoch 11/16\n",
      "118/118 [==============================] - 0s 4ms/step - loss: 0.0604 - accuracy: 0.9823 - val_loss: 0.1083 - val_accuracy: 0.9672\n",
      "Epoch 12/16\n",
      "118/118 [==============================] - 0s 4ms/step - loss: 0.0547 - accuracy: 0.9839 - val_loss: 0.1008 - val_accuracy: 0.9695\n",
      "Epoch 13/16\n",
      "118/118 [==============================] - 1s 5ms/step - loss: 0.0483 - accuracy: 0.9862 - val_loss: 0.0973 - val_accuracy: 0.9717\n",
      "Epoch 14/16\n",
      "118/118 [==============================] - 1s 4ms/step - loss: 0.0428 - accuracy: 0.9874 - val_loss: 0.0980 - val_accuracy: 0.9713\n",
      "Epoch 15/16\n",
      "118/118 [==============================] - 1s 5ms/step - loss: 0.0394 - accuracy: 0.9890 - val_loss: 0.0961 - val_accuracy: 0.9716\n",
      "Epoch 16/16\n",
      "118/118 [==============================] - 1s 5ms/step - loss: 0.0354 - accuracy: 0.9903 - val_loss: 0.0957 - val_accuracy: 0.9727\n"
     ]
    }
   ],
   "source": [
    "batch_size  = 512\n",
    "epochs      =  16\n",
    "\n",
    "history = model.fit(  x_train, y_train,\n",
    "                      batch_size      = batch_size,\n",
    "                      epochs          = epochs,\n",
    "                      verbose         = 1,\n",
    "                      validation_data = (x_test, y_test))\n",
    "\n",
    "#batch_size sets how many rows of data are used for each step of\n",
    "#the loss function, i.e. stochastic gradient descent\n",
    "#verbose set to true prints a log during training, i.e. for \n",
    "#debugging purposes "
   ]
  },
  {
   "cell_type": "markdown",
   "metadata": {},
   "source": [
    "## Step 6 - Evaluate\n",
    "### 6.1: Evaluation"
   ]
  },
  {
   "cell_type": "markdown",
   "metadata": {},
   "source": [
    "### <font color='red'> Task 4: Evaluate your model <font>"
   ]
  },
  {
   "cell_type": "code",
   "execution_count": 89,
   "metadata": {
    "tags": []
   },
   "outputs": [
    {
     "name": "stdout",
     "output_type": "stream",
     "text": [
      "313/313 [==============================] - 0s 748us/step - loss: 0.0957 - accuracy: 0.9727\n"
     ]
    }
   ],
   "source": [
    "# given x_test and y_test, evaluate your model using keras model.evaluate module\n",
    "#accuracy = model.evaluate(x_test, y_test)\n",
    "\n",
    "score = model.evaluate(x_test, y_test) \n",
    "#score[0] = accuracy\n",
    "#score[1] = loss"
   ]
  },
  {
   "cell_type": "code",
   "execution_count": 91,
   "metadata": {},
   "outputs": [
    {
     "name": "stdout",
     "output_type": "stream",
     "text": [
      "Test loss     : 9.567812830209732 %\n",
      "Test accuracy : 97.26999998092651 %\n",
      "INFO:tensorflow:Assets written to: Model_0_1\\assets\n"
     ]
    }
   ],
   "source": [
    "print('Test loss     :', (score[0]*100), '%')\n",
    "print('Test accuracy :', (score[1]*100), '%')\n",
    "model.save('Model_0_1')"
   ]
  },
  {
   "cell_type": "markdown",
   "metadata": {},
   "source": [
    "### 6.2 - Plot history"
   ]
  },
  {
   "cell_type": "markdown",
   "metadata": {},
   "source": [
    "### <font color='red'> Task 5: Plot learning curves <font>\n",
    "use the \"history\" variable created above and plot accuracy and loss curves\n",
    "1. plot train and val accuracy plot\n",
    "2. plot train and val loss plot"
   ]
  },
  {
   "cell_type": "code",
   "execution_count": 92,
   "metadata": {
    "tags": []
   },
   "outputs": [
    {
     "data": {
      "image/png": "[encoded data removed]",
      "text/plain": [
       "<Figure size 432x288 with 1 Axes>"
      ]
     },
     "metadata": {
      "needs_background": "light"
     },
     "output_type": "display_data"
    },
    {
     "data": {
      "image/png": "[encoded data removed]",
      "text/plain": [
       "<Figure size 432x288 with 1 Axes>"
      ]
     },
     "metadata": {
      "needs_background": "light"
     },
     "output_type": "display_data"
    }
   ],
   "source": [
    "loss = history.history['loss']\n",
    "val_loss = history.history['val_loss']\n",
    "epochs = range (1, len(loss) + 1)\n",
    "plt.plot(epochs, loss, 'g', label = 'Training loss')\n",
    "plt.plot(epochs, val_loss, 'b', label = 'Validation loss')\n",
    "plt.title('Training and Validation Loss')\n",
    "plt.xlabel('Epochs')\n",
    "plt.ylabel('Loss')\n",
    "plt.legend()\n",
    "plt.show()\n",
    "\n",
    "accuracy = history.history['accuracy']\n",
    "val_accuracy = history.history['val_accuracy']\n",
    "plt.plot(epochs, accuracy, 'g', label = 'Training accuracy')\n",
    "plt.plot(epochs, val_accuracy, 'b', label = 'Validation accuracy')\n",
    "plt.title('Training and Validation Accuracy')\n",
    "plt.xlabel('Epochs')\n",
    "plt.ylabel('Accuracy')\n",
    "plt.legend()\n",
    "plt.show()"
   ]
  },
  {
   "cell_type": "markdown",
   "metadata": {},
   "source": [
    "### 6.3 - Plot results"
   ]
  },
  {
   "cell_type": "markdown",
   "metadata": {},
   "source": [
    "### <font color='red'> Task 6: Plot sample inference results <font>\n",
    "feed 5 random images from \"x_test\" to your trained model and print inference results"
   ]
  },
  {
   "cell_type": "code",
   "execution_count": 136,
   "metadata": {
    "tags": []
   },
   "outputs": [
    {
     "name": "stdout",
     "output_type": "stream",
     "text": [
      "Random generated numbers list:\n",
      "4 0 5 6 7\n",
      "Label associated with index 4 is:  4\n",
      "Corresponding Image:\n"
     ]
    },
    {
     "data": {
      "image/png": "[encoded data removed]",
      "text/plain": [
       "<Figure size 432x288 with 1 Axes>"
      ]
     },
     "metadata": {
      "needs_background": "light"
     },
     "output_type": "display_data"
    },
    {
     "name": "stdout",
     "output_type": "stream",
     "text": [
      "Label associated with index 0 is:  7\n",
      "Corresponding Image:\n"
     ]
    },
    {
     "data": {
      "image/png": "[encoded data removed]",
      "text/plain": [
       "<Figure size 432x288 with 1 Axes>"
      ]
     },
     "metadata": {
      "needs_background": "light"
     },
     "output_type": "display_data"
    },
    {
     "name": "stdout",
     "output_type": "stream",
     "text": [
      "Label associated with index 5 is:  1\n",
      "Corresponding Image:\n"
     ]
    },
    {
     "data": {
      "image/png": "[encoded data removed]",
      "text/plain": [
       "<Figure size 432x288 with 1 Axes>"
      ]
     },
     "metadata": {
      "needs_background": "light"
     },
     "output_type": "display_data"
    },
    {
     "name": "stdout",
     "output_type": "stream",
     "text": [
      "Label associated with index 6 is:  4\n",
      "Corresponding Image:\n"
     ]
    },
    {
     "data": {
      "image/png": "[encoded data removed]",
      "text/plain": [
       "<Figure size 432x288 with 1 Axes>"
      ]
     },
     "metadata": {
      "needs_background": "light"
     },
     "output_type": "display_data"
    },
    {
     "name": "stdout",
     "output_type": "stream",
     "text": [
      "Label associated with index 7 is:  9\n",
      "Corresponding Image:\n"
     ]
    },
    {
     "data": {
      "image/png": "[encoded data removed]",
      "text/plain": [
       "<Figure size 432x288 with 1 Axes>"
      ]
     },
     "metadata": {
      "needs_background": "light"
     },
     "output_type": "display_data"
    }
   ],
   "source": [
    "import random\n",
    "#loading the data to the new model Model_0_2 \n",
    "Model_0_2 = tf.keras.models.load_model('Model_0_1')\n",
    "predictions = Model_0_2.predict([x_test])\n",
    "\n",
    "#Generating a random vector of 5 elements between 0-9 \n",
    "randomlist = random.sample(range(0,9), 5)\n",
    "z = randomlist\n",
    "print(\"Random generated numbers list:\")\n",
    "print(z[0], z[1], z[2], z[3], z[4])\n",
    "\n",
    "#iterating through the random vector indeces and\n",
    "#printing the predictions (elements) and the associated image\n",
    "for i in range (0, 5):\n",
    " print (\"Label associated with index\", z[i], \"is: \", np.argmax(predictions[z[i]]))\n",
    " #print(np.argmax(predictions[z[i]]))\n",
    " print (\"Corresponding Image:\")\n",
    " plt.imshow(x_test[z[i]])\n",
    " plt.show()\n",
    "\n"
   ]
  },
  {
   "cell_type": "markdown",
   "metadata": {},
   "source": [
    "### <font color='red'> Task 7: Print confusion matrix <font>\n",
    "take y_test and y_pred and print the confusion matrix using sklearn"
   ]
  },
  {
   "cell_type": "code",
   "execution_count": 143,
   "metadata": {},
   "outputs": [
    {
     "ename": "ModuleNotFoundError",
     "evalue": "No module named 'sklearn'",
     "output_type": "error",
     "traceback": [
      "\u001b[1;31m---------------------------------------------------------------------------\u001b[0m",
      "\u001b[1;31mModuleNotFoundError\u001b[0m                       Traceback (most recent call last)",
      "\u001b[1;32m<ipython-input-143-c375c7f1d44b>\u001b[0m in \u001b[0;36m<module>\u001b[1;34m\u001b[0m\n\u001b[0;32m      1\u001b[0m \u001b[1;31m#y_pred here is simply the predictions\u001b[0m\u001b[1;33m\u001b[0m\u001b[1;33m\u001b[0m\u001b[1;33m\u001b[0m\u001b[0m\n\u001b[1;32m----> 2\u001b[1;33m \u001b[1;32mimport\u001b[0m \u001b[0msklearn\u001b[0m\u001b[1;33m\u001b[0m\u001b[1;33m\u001b[0m\u001b[0m\n\u001b[0m\u001b[0;32m      3\u001b[0m \u001b[1;32mfrom\u001b[0m \u001b[0msklearn\u001b[0m\u001b[1;33m.\u001b[0m\u001b[0mmetrics\u001b[0m \u001b[1;32mimport\u001b[0m \u001b[0mconfusion_matrix\u001b[0m\u001b[1;33m\u001b[0m\u001b[1;33m\u001b[0m\u001b[0m\n\u001b[0;32m      4\u001b[0m \u001b[0mcm\u001b[0m \u001b[1;33m=\u001b[0m \u001b[0mconfusion_matrix\u001b[0m\u001b[1;33m(\u001b[0m\u001b[0my_test\u001b[0m\u001b[1;33m,\u001b[0m \u001b[0mpredictions\u001b[0m\u001b[1;33m)\u001b[0m\u001b[1;33m\u001b[0m\u001b[1;33m\u001b[0m\u001b[0m\n\u001b[0;32m      5\u001b[0m \u001b[1;33m\u001b[0m\u001b[0m\n",
      "\u001b[1;31mModuleNotFoundError\u001b[0m: No module named 'sklearn'"
     ]
    }
   ],
   "source": [
    "#y_pred here is simply the predictions\n",
    "import sklearn\n",
    "from sklearn.metrics import confusion_matrix\n",
    "cm = confusion_matrix(y_test, predictions)\n",
    "\n",
    "sns.heatmap(cm, annot = True) \n"
   ]
  },
  {
   "cell_type": "markdown",
   "metadata": {},
   "source": [
    "<font color='blue'>\n",
    "    <div class=\"todo\">\n",
    "    A few things you can do for fun:\n",
    "    <ul>\n",
    "        <li>Changing the network architecture (layers, number of neurons, etc.)</li>\n",
    "        <li>Retrieve and display the softmax output of the network, to evaluate its \"doubts\".</li>\n",
    "    </ul>\n",
    "</div>\n",
    "<font>"
   ]
  },
  {
   "cell_type": "code",
   "execution_count": null,
   "metadata": {},
   "outputs": [],
   "source": []
  }
 ],
 "metadata": {
  "kernelspec": {
   "display_name": "Python 3",
   "language": "python",
   "name": "python3"
  },
  "language_info": {
   "codemirror_mode": {
    "name": "ipython",
    "version": 3
   },
   "file_extension": ".py",
   "mimetype": "text/x-python",
   "name": "python",
   "nbconvert_exporter": "python",
   "pygments_lexer": "ipython3",
   "version": "3.8.10"
  }
 },
 "nbformat": 4,
 "nbformat_minor": 4
}
